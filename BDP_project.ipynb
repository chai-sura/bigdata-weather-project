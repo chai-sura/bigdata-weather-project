{
  "cells": [
    {
      "cell_type": "code",
      "execution_count": 1,
      "id": "29cdab41",
      "metadata": {
        "id": "29cdab41"
      },
      "outputs": [],
      "source": [
        "from pyspark.sql import SparkSession\n",
        "\n",
        "# Initialize SparkSession\n",
        "spark = SparkSession.builder \\\n",
        "    .appName(\"WeatherDataProcessing\") \\\n",
        "    .config(\"spark.driver.memory\", \"10g\") \\\n",
        "    .getOrCreate()\n",
        "\n",
        "# Define local paths\n",
        "DATASET_PATH = r'/Users/sakethreddyvallapureddy/Desktop/chai_BDP/DATASET_BDP'\n",
        "\n",
        "RANDOM_SEED = 42\n",
        "\n",
        "SLOW_OPERATIONS = True\n",
        "\n",
        "# True to save the computation of dataset preprocessing, fitted pipelines and trained models to the filesystem\n",
        "SAVE_COMPUTATIONS = True\n",
        "\n",
        "# True to load the sampled dataset from the filesystem, False to compute it from the raw one\n",
        "LOAD_SAMPLED_DATASET = True\n",
        "SAMPLED_DATASET_PATH = r'/Users/sakethreddyvallapureddy/Desktop/chai_BDP/DATASET_BDP/aggregated_sampled_weather_measurements.csv'\n",
        "\n",
        "# True to load the encoding pipeline from the filesystem, False to compute it from scratch\n",
        "LOAD_ENCODING_PIPELINE = True\n",
        "\n",
        "# True to load pretrained models from the filesystem, False to compute them from scratch\n",
        "LOAD_PRETRAINED_MODELS = True\n",
        "\n",
        "# necessary due to limitations (training on a dataframe larger than this threshold causes issues)\n",
        "MAX_TRAIN_SIZE = 999_999\n"
      ]
    },
    {
      "cell_type": "code",
      "execution_count": null,
      "id": "d36b357c",
      "metadata": {
        "id": "d36b357c"
      },
      "outputs": [],
      "source": [
        "import pyspark\n",
        "import numpy as np\n",
        "import matplotlib.pyplot as plt\n",
        "\n",
        "from pyspark import SparkContext, SparkConf\n",
        "\n",
        "from pyspark.sql import *\n",
        "from pyspark.sql.types import *\n",
        "from pyspark.sql.functions import *\n",
        "\n",
        "from pyspark.ml.pipeline import PipelineModel\n",
        "from pyspark.ml.tuning import CrossValidatorModel\n",
        "\n",
        "from typing import *"
      ]
    },
    {
      "cell_type": "code",
      "execution_count": null,
      "id": "8c7cec1c",
      "metadata": {
        "id": "8c7cec1c"
      },
      "outputs": [],
      "source": [
        "weather_conditions_df = spark.read.csv(r'/Users/sakethreddyvallapureddy/Desktop/chai_BDP/DATASET_BDP/weather_description.csv', header=True, inferSchema=True)\n",
        "humidity_df = spark.read.csv(r'/Users/sakethreddyvallapureddy/Desktop/chai_BDP/DATASET_BDP/humidity.csv', header=True, inferSchema=True)\n",
        "pressure_df = spark.read.csv(r'/Users/sakethreddyvallapureddy/Desktop/chai_BDP/DATASET_BDP/pressure.csv', header=True, inferSchema=True)\n",
        "temperature_df = spark.read.csv(r'/Users/sakethreddyvallapureddy/Desktop/chai_BDP/DATASET_BDP/temperature.csv', header=True, inferSchema=True)\n",
        "city_attributes_df = spark.read.csv(r'/Users/sakethreddyvallapureddy/Desktop/chai_BDP/DATASET_BDP/city_attributes.csv', header=True, inferSchema=True)\n",
        "wind_direction_df = spark.read.csv(r'/Users/sakethreddyvallapureddy/Desktop/chai_BDP/DATASET_BDP/wind_direction.csv', header=True, inferSchema=True)\n",
        "wind_speed_df = spark.read.csv(r'/Users/sakethreddyvallapureddy/Desktop/chai_BDP/DATASET_BDP/wind_speed.csv', header=True, inferSchema=True)"
      ]
    },
    {
      "cell_type": "code",
      "execution_count": null,
      "id": "4252f1ac",
      "metadata": {
        "id": "4252f1ac"
      },
      "outputs": [],
      "source": [
        "from pyspark.sql import DataFrame\n",
        "from typing import Union\n",
        "\n",
        "def print_dataframe_shape(dataframe: DataFrame) -> None:\n",
        "    rows_count = dataframe.count()\n",
        "    columns_count = len(dataframe.columns)\n",
        "\n",
        "    print(f'The shape of the dataset is {rows_count} rows by {columns_count} columns', end='\\n\\n')\n",
        "\n",
        "# Example usage:\n",
        "# Assuming `DataFrame` is imported properly\n",
        "# and you have a DataFrame named `df`\n",
        "# print_dataframe_shape(df)\n"
      ]
    },
    {
      "cell_type": "code",
      "execution_count": null,
      "id": "a1271e22",
      "metadata": {
        "id": "a1271e22",
        "outputId": "1ddf0c4b-cb3e-441c-c499-a1944a30735b"
      },
      "outputs": [
        {
          "name": "stdout",
          "output_type": "stream",
          "text": [
            "The shape of the dataset is 36 rows by 4 columns\n",
            "\n"
          ]
        }
      ],
      "source": [
        "print_dataframe_shape(city_attributes_df)"
      ]
    },
    {
      "cell_type": "code",
      "execution_count": null,
      "id": "8062eb6d",
      "metadata": {
        "id": "8062eb6d",
        "outputId": "a10d23f9-8a92-4c76-86f0-957d7f6e774a"
      },
      "outputs": [
        {
          "name": "stdout",
          "output_type": "stream",
          "text": [
            "root\n",
            " |-- City: string (nullable = true)\n",
            " |-- Country: string (nullable = true)\n",
            " |-- Latitude: double (nullable = true)\n",
            " |-- Longitude: double (nullable = true)\n",
            "\n"
          ]
        }
      ],
      "source": [
        "city_attributes_df.printSchema()"
      ]
    },
    {
      "cell_type": "code",
      "execution_count": null,
      "id": "5659fce9",
      "metadata": {
        "id": "5659fce9",
        "outputId": "2b097102-f761-42f4-8227-804edc69d871"
      },
      "outputs": [
        {
          "data": {
            "text/plain": [
              "[Row(City='Vancouver', Country='Canada', Latitude=49.24966, Longitude=-123.119339),\n",
              " Row(City='Portland', Country='United States', Latitude=45.523449, Longitude=-122.676208),\n",
              " Row(City='San Francisco', Country='United States', Latitude=37.774929, Longitude=-122.419418),\n",
              " Row(City='Seattle', Country='United States', Latitude=47.606209, Longitude=-122.332069),\n",
              " Row(City='Los Angeles', Country='United States', Latitude=34.052231, Longitude=-118.243683)]"
            ]
          },
          "execution_count": 7,
          "metadata": {},
          "output_type": "execute_result"
        }
      ],
      "source": [
        "city_attributes_df.head(5)"
      ]
    },
    {
      "cell_type": "code",
      "execution_count": null,
      "id": "6dd580a2",
      "metadata": {
        "id": "6dd580a2",
        "outputId": "5ed6fc37-c345-402a-f06a-320e178042ff"
      },
      "outputs": [
        {
          "name": "stdout",
          "output_type": "stream",
          "text": [
            "The shape of the dataset is 45253 rows by 37 columns\n",
            "\n"
          ]
        }
      ],
      "source": [
        "print_dataframe_shape(weather_conditions_df)"
      ]
    },
    {
      "cell_type": "code",
      "execution_count": null,
      "id": "c979760d",
      "metadata": {
        "id": "c979760d",
        "outputId": "56210671-943e-441c-9b6f-b9a769202de0"
      },
      "outputs": [
        {
          "name": "stdout",
          "output_type": "stream",
          "text": [
            "root\n",
            " |-- datetime: timestamp (nullable = true)\n",
            " |-- Vancouver: string (nullable = true)\n",
            " |-- Portland: string (nullable = true)\n",
            " |-- San Francisco: string (nullable = true)\n",
            " |-- Seattle: string (nullable = true)\n",
            " |-- Los Angeles: string (nullable = true)\n",
            " |-- San Diego: string (nullable = true)\n",
            " |-- Las Vegas: string (nullable = true)\n",
            " |-- Phoenix: string (nullable = true)\n",
            " |-- Albuquerque: string (nullable = true)\n",
            " |-- Denver: string (nullable = true)\n",
            " |-- San Antonio: string (nullable = true)\n",
            " |-- Dallas: string (nullable = true)\n",
            " |-- Houston: string (nullable = true)\n",
            " |-- Kansas City: string (nullable = true)\n",
            " |-- Minneapolis: string (nullable = true)\n",
            " |-- Saint Louis: string (nullable = true)\n",
            " |-- Chicago: string (nullable = true)\n",
            " |-- Nashville: string (nullable = true)\n",
            " |-- Indianapolis: string (nullable = true)\n",
            " |-- Atlanta: string (nullable = true)\n",
            " |-- Detroit: string (nullable = true)\n",
            " |-- Jacksonville: string (nullable = true)\n",
            " |-- Charlotte: string (nullable = true)\n",
            " |-- Miami: string (nullable = true)\n",
            " |-- Pittsburgh: string (nullable = true)\n",
            " |-- Toronto: string (nullable = true)\n",
            " |-- Philadelphia: string (nullable = true)\n",
            " |-- New York: string (nullable = true)\n",
            " |-- Montreal: string (nullable = true)\n",
            " |-- Boston: string (nullable = true)\n",
            " |-- Beersheba: string (nullable = true)\n",
            " |-- Tel Aviv District: string (nullable = true)\n",
            " |-- Eilat: string (nullable = true)\n",
            " |-- Haifa: string (nullable = true)\n",
            " |-- Nahariyya: string (nullable = true)\n",
            " |-- Jerusalem: string (nullable = true)\n",
            "\n"
          ]
        }
      ],
      "source": [
        "weather_conditions_df.printSchema()"
      ]
    },
    {
      "cell_type": "code",
      "execution_count": null,
      "id": "4085e9f8",
      "metadata": {
        "id": "4085e9f8",
        "outputId": "ab2f1ffd-3005-4d96-dcc2-ac614a3370c0"
      },
      "outputs": [
        {
          "data": {
            "text/plain": [
              "[Row(datetime=datetime.datetime(2012, 10, 1, 12, 0), Vancouver=None, Portland=None, San Francisco=None, Seattle=None),\n",
              " Row(datetime=datetime.datetime(2012, 10, 1, 13, 0), Vancouver='mist', Portland='scattered clouds', San Francisco='light rain', Seattle='sky is clear'),\n",
              " Row(datetime=datetime.datetime(2012, 10, 1, 14, 0), Vancouver='broken clouds', Portland='scattered clouds', San Francisco='sky is clear', Seattle='sky is clear'),\n",
              " Row(datetime=datetime.datetime(2012, 10, 1, 15, 0), Vancouver='broken clouds', Portland='scattered clouds', San Francisco='sky is clear', Seattle='sky is clear'),\n",
              " Row(datetime=datetime.datetime(2012, 10, 1, 16, 0), Vancouver='broken clouds', Portland='scattered clouds', San Francisco='sky is clear', Seattle='sky is clear')]"
            ]
          },
          "execution_count": 10,
          "metadata": {},
          "output_type": "execute_result"
        }
      ],
      "source": [
        "weather_conditions_df[weather_conditions_df.columns[:5]].head(5)"
      ]
    },
    {
      "cell_type": "code",
      "execution_count": null,
      "id": "b5dae193",
      "metadata": {
        "id": "b5dae193"
      },
      "outputs": [],
      "source": [
        "DATETIME_COL = 'datetime'\n",
        "HUMIDITY_COL = 'humidity'\n",
        "PRESSURE_COL = 'pressure'\n",
        "TEMPERATURE_COL = 'temperature'\n",
        "WIND_DIRECTION_COL = 'wind_direction'\n",
        "WIND_SPEED_COL = 'wind_speed'\n",
        "LATITUDE_COL = 'latitude'\n",
        "LONGITUDE_COL = 'longitude'\n",
        "CITY_COL = 'city'\n",
        "COUNTRY_COL = 'country'\n",
        "WEATHER_CONDITION_COL = 'weather_condition'"
      ]
    },
    {
      "cell_type": "code",
      "execution_count": null,
      "id": "c2ab8f89",
      "metadata": {
        "id": "c2ab8f89"
      },
      "outputs": [],
      "source": [
        "from pyspark.sql import functions as F\n",
        "\n",
        "def filter_dataframe_by_city_column(dataframe: DataFrame,\n",
        "                                    city_name: str,\n",
        "                                    new_column_name: str) -> DataFrame:\n",
        "    '''\n",
        "    Args:\n",
        "        - dataframe: a `DataFrame` with a datetime column and n cities columns,\n",
        "                     where the records are the related hourly measurements\n",
        "        - city_name: city name between the ones in the dataframe\n",
        "        - new_column_name: name to replace the city name\n",
        "\n",
        "    Returns:\n",
        "        a new `DataFrame` with:\n",
        "            - the datetime column\n",
        "            - a single column of measurements related to the `city_name`\n",
        "              and renamed as `new_column_name`\n",
        "    '''\n",
        "    return dataframe.select([DATETIME_COL, city_name]) \\\n",
        "                    .withColumnRenamed(city_name, new_column_name)\n"
      ]
    },
    {
      "cell_type": "code",
      "execution_count": null,
      "id": "b9a5b1a5",
      "metadata": {
        "id": "b9a5b1a5"
      },
      "outputs": [],
      "source": [
        "def join_dataframes(dataframes: List[DataFrame], column_name: str) -> DataFrame:\n",
        "    '''\n",
        "    Args:\n",
        "        - dataframse: a list of `DataFrame` to be joined\n",
        "        - column_name: the column over which the records should be joined\n",
        "\n",
        "    Returns:\n",
        "        a new dataframes resulting from the join of all the dataframes\n",
        "        over the `column_name` column\n",
        "    '''\n",
        "    joined_df = dataframes[0]\n",
        "\n",
        "    for dataframe in dataframes[1:]:\n",
        "        joined_df = joined_df.join(dataframe, [column_name])\n",
        "\n",
        "    return joined_df"
      ]
    },
    {
      "cell_type": "code",
      "execution_count": null,
      "id": "b7675e4e",
      "metadata": {
        "id": "b7675e4e"
      },
      "outputs": [],
      "source": [
        "from pyspark.sql.functions import lit\n",
        "from functools import reduce\n",
        "\n",
        "# Initialize an empty DataFrame to store the weather measurements\n",
        "weather_measurements_df = None\n",
        "\n",
        "# Iterate over all the records in the cities DataFrame\n",
        "for row in city_attributes_df.collect():\n",
        "    city = row['City']\n",
        "    country = row['Country']\n",
        "    latitude = row['Latitude']\n",
        "    longitude = row['Longitude']\n",
        "\n",
        "    # Compute a list of DataFrames, one for each type of measurement in the city\n",
        "    dataframes = [\n",
        "        filter_dataframe_by_city_column(humidity_df, city, HUMIDITY_COL),\n",
        "        filter_dataframe_by_city_column(pressure_df, city, PRESSURE_COL),\n",
        "        filter_dataframe_by_city_column(temperature_df, city, TEMPERATURE_COL),\n",
        "        filter_dataframe_by_city_column(wind_direction_df, city, WIND_DIRECTION_COL),\n",
        "        filter_dataframe_by_city_column(wind_speed_df, city, WIND_SPEED_COL),\n",
        "        filter_dataframe_by_city_column(weather_conditions_df, city, WEATHER_CONDITION_COL)\n",
        "    ]\n",
        "\n",
        "    # Define a function to join DataFrames\n",
        "    def join_dataframes(df1, df2):\n",
        "        return df1.join(df2, DATETIME_COL)\n",
        "\n",
        "    # Compute a DataFrame that includes all the data about the measurements in the city\n",
        "    joined_df = reduce(join_dataframes, dataframes) \\\n",
        "        .withColumn(CITY_COL, lit(city)) \\\n",
        "        .withColumn(COUNTRY_COL, lit(country)) \\\n",
        "        .withColumn(LATITUDE_COL, lit(latitude)) \\\n",
        "        .withColumn(LONGITUDE_COL, lit(longitude))\n",
        "\n",
        "    # Union the DataFrame with the ones computed in the previous iterations\n",
        "    if weather_measurements_df is None:\n",
        "        weather_measurements_df = joined_df\n",
        "    else:\n",
        "        weather_measurements_df = weather_measurements_df.union(joined_df)\n"
      ]
    },
    {
      "cell_type": "code",
      "execution_count": null,
      "id": "7970944d",
      "metadata": {
        "id": "7970944d",
        "outputId": "a7b2dc2b-f835-4a09-8910-339062e95ad0"
      },
      "outputs": [
        {
          "name": "stderr",
          "output_type": "stream",
          "text": [
            "[Stage 28:===========================================>           (85 + 8) / 108]\r"
          ]
        },
        {
          "name": "stdout",
          "output_type": "stream",
          "text": [
            "The shape of the dataset is 1640268 rows by 11 columns\n",
            "\n"
          ]
        },
        {
          "name": "stderr",
          "output_type": "stream",
          "text": [
            "                                                                                \r"
          ]
        }
      ],
      "source": [
        "print_dataframe_shape(weather_measurements_df)"
      ]
    },
    {
      "cell_type": "code",
      "execution_count": null,
      "id": "f04f41b7",
      "metadata": {
        "id": "f04f41b7",
        "outputId": "bb837acf-e9d4-4211-a975-12afa4b27b14"
      },
      "outputs": [
        {
          "name": "stdout",
          "output_type": "stream",
          "text": [
            "root\n",
            " |-- datetime: timestamp (nullable = true)\n",
            " |-- humidity: double (nullable = true)\n",
            " |-- pressure: double (nullable = true)\n",
            " |-- temperature: double (nullable = true)\n",
            " |-- wind_direction: double (nullable = true)\n",
            " |-- wind_speed: double (nullable = true)\n",
            " |-- weather_condition: string (nullable = true)\n",
            " |-- city: string (nullable = false)\n",
            " |-- country: string (nullable = false)\n",
            " |-- latitude: double (nullable = false)\n",
            " |-- longitude: double (nullable = false)\n",
            "\n"
          ]
        }
      ],
      "source": [
        "weather_measurements_df.printSchema()"
      ]
    },
    {
      "cell_type": "code",
      "execution_count": null,
      "id": "95b8d333",
      "metadata": {
        "id": "95b8d333",
        "outputId": "e20acece-9dd5-4928-ff66-42d54c97676c"
      },
      "outputs": [
        {
          "name": "stderr",
          "output_type": "stream",
          "text": [
            "24/04/22 17:41:25 WARN GarbageCollectionMetrics: To enable non-built-in garbage collector(s) List(G1 Concurrent GC), users should configure it(them) to spark.eventLog.gcMetrics.youngGenerationGarbageCollectors or spark.eventLog.gcMetrics.oldGenerationGarbageCollectors\n",
            "                                                                                \r"
          ]
        },
        {
          "name": "stdout",
          "output_type": "stream",
          "text": [
            "+-------------------+--------+--------+-------------+--------------+----------+-----------------+---------+-------+--------+-----------+\n",
            "|           datetime|humidity|pressure|  temperature|wind_direction|wind_speed|weather_condition|     city|country|latitude|  longitude|\n",
            "+-------------------+--------+--------+-------------+--------------+----------+-----------------+---------+-------+--------+-----------+\n",
            "|2012-10-01 12:00:00|    null|    null|         null|          null|      null|             null|Vancouver| Canada|49.24966|-123.119339|\n",
            "|2012-10-01 13:00:00|    76.0|    null|       284.63|           0.0|       0.0|             mist|Vancouver| Canada|49.24966|-123.119339|\n",
            "|2012-10-01 14:00:00|    76.0|    null| 284.62904131|           6.0|       0.0|    broken clouds|Vancouver| Canada|49.24966|-123.119339|\n",
            "|2012-10-01 15:00:00|    76.0|    null|284.626997923|          20.0|       0.0|    broken clouds|Vancouver| Canada|49.24966|-123.119339|\n",
            "|2012-10-01 16:00:00|    77.0|    null|284.624954535|          34.0|       0.0|    broken clouds|Vancouver| Canada|49.24966|-123.119339|\n",
            "+-------------------+--------+--------+-------------+--------------+----------+-----------------+---------+-------+--------+-----------+\n",
            "only showing top 5 rows\n",
            "\n"
          ]
        }
      ],
      "source": [
        "if SLOW_OPERATIONS: weather_measurements_df.show(5)"
      ]
    },
    {
      "cell_type": "code",
      "execution_count": null,
      "id": "b42dcb8c",
      "metadata": {
        "id": "b42dcb8c"
      },
      "outputs": [],
      "source": [
        "#if SLOW_OPERATIONS: weather_measurements_df.describe().to_koalas().transpose()\n",
        "\n",
        "from pyspark.sql.functions import col\n",
        "\n",
        "# Check if SLOW_OPERATIONS is True\n",
        "if SLOW_OPERATIONS:\n",
        "    # Describe the DataFrame\n",
        "    description_df = weather_measurements_df.describe()\n",
        "\n",
        "    # Transpose the DataFrame\n",
        "    transposed_description_df = description_df.select(*([col(\"summary\")] + [col(col_name).alias(col_name) for col_name in description_df.columns[1:]])).toDF(*description_df.columns)\n",
        "\n",
        "    # Show the transposed description\n",
        "    #transposed_description_df.show()\n"
      ]
    },
    {
      "cell_type": "code",
      "execution_count": null,
      "id": "48a2de8e",
      "metadata": {
        "id": "48a2de8e",
        "outputId": "5544e039-57f1-45c6-e00e-1e7732aeb05c"
      },
      "outputs": [
        {
          "name": "stdout",
          "output_type": "stream",
          "text": [
            "Missing values of column `datetime` count: 0\n"
          ]
        },
        {
          "name": "stderr",
          "output_type": "stream",
          "text": [
            "                                                                                \r"
          ]
        },
        {
          "name": "stdout",
          "output_type": "stream",
          "text": [
            "Missing values of column `humidity` count: 28868\n"
          ]
        },
        {
          "name": "stderr",
          "output_type": "stream",
          "text": [
            "                                                                                \r"
          ]
        },
        {
          "name": "stdout",
          "output_type": "stream",
          "text": [
            "Missing values of column `pressure` count: 16680\n"
          ]
        },
        {
          "name": "stderr",
          "output_type": "stream",
          "text": [
            "                                                                                \r"
          ]
        },
        {
          "name": "stdout",
          "output_type": "stream",
          "text": [
            "Missing values of column `temperature` count: 8030\n"
          ]
        },
        {
          "name": "stderr",
          "output_type": "stream",
          "text": [
            "                                                                                \r"
          ]
        },
        {
          "name": "stdout",
          "output_type": "stream",
          "text": [
            "Missing values of column `wind_direction` count: 7975\n"
          ]
        },
        {
          "name": "stderr",
          "output_type": "stream",
          "text": [
            "                                                                                \r"
          ]
        },
        {
          "name": "stdout",
          "output_type": "stream",
          "text": [
            "Missing values of column `wind_speed` count: 7993\n"
          ]
        },
        {
          "name": "stderr",
          "output_type": "stream",
          "text": [
            "                                                                                \r"
          ]
        },
        {
          "name": "stdout",
          "output_type": "stream",
          "text": [
            "Missing values of column `weather_condition` count: 7955\n",
            "Missing values of column `city` count: 0\n",
            "Missing values of column `country` count: 0\n",
            "Missing values of column `latitude` count: 0\n",
            "Missing values of column `longitude` count: 0\n"
          ]
        }
      ],
      "source": [
        "if SLOW_OPERATIONS:\n",
        "    for c in weather_measurements_df.columns:\n",
        "        print(f'Missing values of column `{c}` count: {weather_measurements_df.where(col(c).isNull()).count()}')\n",
        ""
      ]
    },
    {
      "cell_type": "code",
      "execution_count": null,
      "id": "925ab5bb",
      "metadata": {
        "id": "925ab5bb"
      },
      "outputs": [],
      "source": [
        "not_null_weather_measurements_df = weather_measurements_df.dropna()"
      ]
    },
    {
      "cell_type": "code",
      "execution_count": null,
      "id": "4cb415d7",
      "metadata": {
        "id": "4cb415d7",
        "outputId": "2ca9d31f-a4e1-4e94-8238-1d7021548ed3"
      },
      "outputs": [
        {
          "name": "stderr",
          "output_type": "stream",
          "text": [
            "24/04/22 17:42:26 WARN DAGScheduler: Broadcasting large task binary with size 1289.4 KiB\n",
            "[Stage 630:==================================================>  (103 + 5) / 108]\r"
          ]
        },
        {
          "name": "stdout",
          "output_type": "stream",
          "text": [
            "+----------------------------+------+\n",
            "|weather_condition           |count |\n",
            "+----------------------------+------+\n",
            "|fog                         |16247 |\n",
            "|very heavy rain             |1001  |\n",
            "|proximity shower rain       |2339  |\n",
            "|few clouds                  |134584|\n",
            "|heavy shower snow           |336   |\n",
            "|light rain                  |127984|\n",
            "|light intensity drizzle     |8110  |\n",
            "|light intensity shower rain |3695  |\n",
            "|broken clouds               |168373|\n",
            "|overcast clouds             |135049|\n",
            "|light snow                  |14554 |\n",
            "|scattered clouds            |144223|\n",
            "|thunderstorm with heavy rain|396   |\n",
            "|thunderstorm with light rain|1179  |\n",
            "|heavy intensity rain        |14075 |\n",
            "|moderate rain               |43296 |\n",
            "|light intensity drizzle rain|41    |\n",
            "|sky is clear                |646304|\n",
            "|snow                        |3156  |\n",
            "|light shower snow           |1029  |\n",
            "+----------------------------+------+\n",
            "only showing top 20 rows\n",
            "\n"
          ]
        },
        {
          "name": "stderr",
          "output_type": "stream",
          "text": [
            "                                                                                \r"
          ]
        }
      ],
      "source": [
        "if SLOW_OPERATIONS: not_null_weather_measurements_df.groupBy(WEATHER_CONDITION_COL).count().show(truncate=False)"
      ]
    },
    {
      "cell_type": "code",
      "execution_count": null,
      "id": "09625173",
      "metadata": {
        "id": "09625173"
      },
      "outputs": [],
      "source": [
        "def get_weather_conditions_aggregation_dict(weather_conditions: Iterable[str]) -> Dict[str, str]:\n",
        "    '''\n",
        "    Args:\n",
        "        - weather_conditions: an iterable collection of string weather conditions to be aggregated\n",
        "\n",
        "    Returns:\n",
        "        a dictionary that goes from the original weather condition name to one among the following:\n",
        "            - thunderstorm\n",
        "            - rainy\n",
        "            - snowy\n",
        "            - cloudy\n",
        "            - foggy\n",
        "            - sunny\n",
        "    '''\n",
        "\n",
        "    weather_conditions_dict = dict()\n",
        "\n",
        "    for weather_condition in weather_conditions:\n",
        "\n",
        "        weather_condition_lowered = weather_condition.lower()\n",
        "\n",
        "        if any(key in weather_condition_lowered for key in ['squall', 'thunderstorm']):\n",
        "            weather_conditions_dict[weather_condition] = 'thunderstorm'\n",
        "        elif any(key in weather_condition_lowered for key in ['drizzle', 'rain']):\n",
        "            weather_conditions_dict[weather_condition] = 'rainy'\n",
        "        elif any(key in weather_condition_lowered for key in ['sleet', 'snow']):\n",
        "            weather_conditions_dict[weather_condition] = 'snowy'\n",
        "        elif 'cloud' in weather_condition_lowered:\n",
        "            weather_conditions_dict[weather_condition] = 'cloudy'\n",
        "        elif any(key in weather_condition_lowered for key in ['fog', 'mist', 'haze']):\n",
        "            weather_conditions_dict[weather_condition] = 'foggy'\n",
        "        elif any(key in weather_condition_lowered for key in ['clear', 'sun']):\n",
        "            weather_conditions_dict[weather_condition] = 'sunny'\n",
        "\n",
        "    return weather_conditions_dict"
      ]
    },
    {
      "cell_type": "code",
      "execution_count": null,
      "id": "2295019e",
      "metadata": {
        "id": "2295019e",
        "outputId": "ef4d2033-b456-412f-8819-9043a99497fa"
      },
      "outputs": [
        {
          "name": "stderr",
          "output_type": "stream",
          "text": [
            "24/04/22 17:42:44 WARN DAGScheduler: Broadcasting large task binary with size 1277.2 KiB\n",
            "                                                                                \r"
          ]
        }
      ],
      "source": [
        "from pyspark.sql.functions import collect_set, explode\n",
        "\n",
        "# Select distinct values from the not_null_weather_measurements_df DataFrame for the WEATHER_CONDITION_COL column\n",
        "distinct_conditions_df = not_null_weather_measurements_df.select(collect_set(WEATHER_CONDITION_COL).alias(WEATHER_CONDITION_COL))\n",
        "\n",
        "# Explode the array of distinct conditions into separate rows\n",
        "distinct_conditions_exploded_df = distinct_conditions_df.select(explode(col(WEATHER_CONDITION_COL)).alias(WEATHER_CONDITION_COL))\n",
        "\n",
        "# Collect distinct conditions as a list\n",
        "distinct_conditions_list = distinct_conditions_exploded_df.select(WEATHER_CONDITION_COL).distinct().collect()\n",
        "\n",
        "# Flatten the list\n",
        "weather_conditions_all = [row[WEATHER_CONDITION_COL] for row in distinct_conditions_list]"
      ]
    },
    {
      "cell_type": "code",
      "execution_count": null,
      "id": "3dd479a4",
      "metadata": {
        "id": "3dd479a4"
      },
      "outputs": [],
      "source": [
        "weather_conditions_dict = get_weather_conditions_aggregation_dict(weather_conditions_all)"
      ]
    },
    {
      "cell_type": "code",
      "execution_count": null,
      "id": "617816de",
      "metadata": {
        "id": "617816de"
      },
      "outputs": [],
      "source": [
        "weather_measurements_aggregated_df = not_null_weather_measurements_df.replace(weather_conditions_dict)"
      ]
    },
    {
      "cell_type": "code",
      "execution_count": null,
      "id": "405d0436",
      "metadata": {
        "id": "405d0436"
      },
      "outputs": [],
      "source": [
        "WEATHER_CONDITIONS = set(weather_conditions_dict.values())\n",
        "\n",
        "weather_measurements_aggregated_df = weather_measurements_aggregated_df \\\n",
        "    .filter(weather_measurements_aggregated_df[WEATHER_CONDITION_COL].isin(WEATHER_CONDITIONS))"
      ]
    },
    {
      "cell_type": "code",
      "execution_count": null,
      "id": "4ef34e2e",
      "metadata": {
        "scrolled": true,
        "id": "4ef34e2e",
        "outputId": "6611127a-ab79-496e-8cd2-5e1fa9340ea4"
      },
      "outputs": [
        {
          "name": "stderr",
          "output_type": "stream",
          "text": [
            "24/04/22 17:43:05 WARN DAGScheduler: Broadcasting large task binary with size 2.5 MiB\n",
            "[Stage 996:==================================================>  (103 + 5) / 108]\r"
          ]
        },
        {
          "name": "stdout",
          "output_type": "stream",
          "text": [
            "+-----------------+------+\n",
            "|weather_condition| count|\n",
            "+-----------------+------+\n",
            "|            rainy|203624|\n",
            "|            snowy| 21500|\n",
            "|            sunny|646304|\n",
            "|           cloudy|582229|\n",
            "|     thunderstorm| 10883|\n",
            "|            foggy|139389|\n",
            "+-----------------+------+\n",
            "\n"
          ]
        },
        {
          "name": "stderr",
          "output_type": "stream",
          "text": [
            "24/04/22 17:43:08 WARN DAGScheduler: Broadcasting large task binary with size 1565.8 KiB\n",
            "                                                                                \r"
          ]
        }
      ],
      "source": [
        "if SLOW_OPERATIONS: weather_measurements_aggregated_df.groupBy(WEATHER_CONDITION_COL).count().show()"
      ]
    },
    {
      "cell_type": "code",
      "execution_count": null,
      "id": "4af69b86",
      "metadata": {
        "id": "4af69b86"
      },
      "outputs": [],
      "source": [
        "def count_weather_condition_occurrences(dataframe: DataFrame, class_name: str) -> int:\n",
        "    '''\n",
        "    Args:\n",
        "        - dataframe: a `DataFrame` which contains a column `WEATHER_CONDITION_COL`\n",
        "        - class_name: the class name to count the occurences of\n",
        "\n",
        "    Returns:\n",
        "        the total number of `class_name` occurences inside `dataframe`\n",
        "    '''\n",
        "    return dataframe.filter(dataframe[WEATHER_CONDITION_COL] == class_name).count()"
      ]
    },
    {
      "cell_type": "code",
      "execution_count": null,
      "id": "45604edb",
      "metadata": {
        "id": "45604edb"
      },
      "outputs": [],
      "source": [
        "def get_undersampling_fracs(dataframe: DataFrame) -> Dict[str, float]:\n",
        "    '''\n",
        "    Args:\n",
        "        - dataframe: a `DataFrame` of weather measurements which contains a column `WEATHER_CONDITION_COL`\n",
        "\n",
        "    Returns:\n",
        "        a dictionary that goes from a weather condition to its fraction\n",
        "        that should be sampled in order to match the occurences of the minority class\n",
        "    '''\n",
        "\n",
        "    rainy_cnt = count_weather_condition_occurrences(dataframe, 'rainy')\n",
        "    snowy_cnt = count_weather_condition_occurrences(dataframe, 'snowy')\n",
        "    sunny_cnt = count_weather_condition_occurrences(dataframe, 'sunny')\n",
        "    foggy_cnt = count_weather_condition_occurrences(dataframe, 'foggy')\n",
        "    cloudy_cnt = count_weather_condition_occurrences(dataframe, 'cloudy')\n",
        "    thunderstorm_cnt = count_weather_condition_occurrences(dataframe, 'thunderstorm')\n",
        "\n",
        "    minority_class_cnt = np.min([rainy_cnt, snowy_cnt, sunny_cnt, cloudy_cnt, foggy_cnt, thunderstorm_cnt])\n",
        "\n",
        "    return {\n",
        "        'rainy': minority_class_cnt / rainy_cnt,\n",
        "        'snowy': minority_class_cnt / snowy_cnt,\n",
        "        'sunny': minority_class_cnt / sunny_cnt,\n",
        "        'foggy': minority_class_cnt / foggy_cnt,\n",
        "        'cloudy': minority_class_cnt / cloudy_cnt,\n",
        "        'thunderstorm': minority_class_cnt / thunderstorm_cnt\n",
        "    }"
      ]
    },
    {
      "cell_type": "code",
      "execution_count": null,
      "id": "bcddbbbb",
      "metadata": {
        "id": "bcddbbbb",
        "outputId": "3dee1c79-3acd-400b-dcc9-1409389dea25"
      },
      "outputs": [
        {
          "name": "stdout",
          "output_type": "stream",
          "text": [
            "+-------------------+--------+--------+-------------+--------------+----------+-----------------+---------+-------------+---------+-----------+\n",
            "|           datetime|humidity|pressure|  temperature|wind_direction|wind_speed|weather_condition|     city|      country| latitude|  longitude|\n",
            "+-------------------+--------+--------+-------------+--------------+----------+-----------------+---------+-------------+---------+-----------+\n",
            "|2014-07-17 17:00:00|    16.0|  1012.0|       308.69|         190.0|       3.0|     thunderstorm|Las Vegas|United States|36.174969|-115.137222|\n",
            "|2014-07-17 19:00:00|    11.0|  1011.0|        312.1|         169.0|       1.0|            sunny|Las Vegas|United States|36.174969|-115.137222|\n",
            "|2014-07-23 04:00:00|     6.0|  1013.0|       308.49|         250.0|       4.0|            sunny|Las Vegas|United States|36.174969|-115.137222|\n",
            "|2014-07-26 01:00:00|    17.0|  1009.0|       312.11|         230.0|       5.0|     thunderstorm|Las Vegas|United States|36.174969|-115.137222|\n",
            "|2014-07-29 02:00:00|    31.0|  1025.0|304.371666667|         147.0|       1.0|            rainy|Las Vegas|United States|36.174969|-115.137222|\n",
            "|2014-07-31 04:00:00|    22.0|  1012.0|       307.25|         290.0|       9.0|            rainy|Las Vegas|United States|36.174969|-115.137222|\n",
            "|2014-07-31 17:00:00|    24.0|  1014.0|       308.63|         180.0|       1.0|            foggy|Las Vegas|United States|36.174969|-115.137222|\n",
            "|2014-08-03 07:00:00|    45.0|  1024.0|297.755666667|         189.0|       2.0|           cloudy|Las Vegas|United States|36.174969|-115.137222|\n",
            "|2014-08-04 04:00:00|    54.0|  1014.0|       298.65|          60.0|       4.0|     thunderstorm|Las Vegas|United States|36.174969|-115.137222|\n",
            "|2014-08-04 05:00:00|    54.0|  1015.0|       297.89|          50.0|       4.0|     thunderstorm|Las Vegas|United States|36.174969|-115.137222|\n",
            "|2014-08-04 12:00:00|   100.0|  1017.0|       293.66|         320.0|       1.0|            foggy|Las Vegas|United States|36.174969|-115.137222|\n",
            "|2014-08-04 21:00:00|    58.0|  1014.0|        300.4|         160.0|       2.0|     thunderstorm|Las Vegas|United States|36.174969|-115.137222|\n",
            "|2014-08-09 03:00:00|    17.0|  1022.0|     299.8345|         181.0|       2.0|            sunny|Las Vegas|United States|36.174969|-115.137222|\n",
            "|2014-08-13 04:00:00|    53.0|  1026.0|298.358666667|         183.0|       2.0|           cloudy|Las Vegas|United States|36.174969|-115.137222|\n",
            "|2014-08-13 20:00:00|    61.0|  1026.0|298.930333333|         157.0|       2.0|            rainy|Las Vegas|United States|36.174969|-115.137222|\n",
            "|2014-08-17 14:00:00|    20.0|  1025.0|      293.547|         256.0|       0.0|            sunny|Las Vegas|United States|36.174969|-115.137222|\n",
            "|2014-08-19 15:00:00|    52.0|  1022.0|      298.468|         143.0|       1.0|            rainy|Las Vegas|United States|36.174969|-115.137222|\n",
            "|2014-08-20 20:00:00|    39.0|  1022.0|       302.93|         155.0|       2.0|           cloudy|Las Vegas|United States|36.174969|-115.137222|\n",
            "|2014-08-21 15:00:00|    40.0|  1025.0|     295.5075|         171.0|       1.0|            sunny|Las Vegas|United States|36.174969|-115.137222|\n",
            "|2014-08-23 15:00:00|    42.0|  1024.0|      296.558|         198.0|       2.0|            sunny|Las Vegas|United States|36.174969|-115.137222|\n",
            "+-------------------+--------+--------+-------------+--------------+----------+-----------------+---------+-------------+---------+-----------+\n",
            "only showing top 20 rows\n",
            "\n"
          ]
        }
      ],
      "source": [
        "from pyspark.sql.functions import col\n",
        "import os\n",
        "#SAMPLED_DATASET_PATH = r'C:\\Users\\91701\\Downloads\\0.csv'\n",
        "# Load sampled dataset if LOAD_SAMPLED_DATASET is True, otherwise sample the DataFrame\n",
        "if LOAD_SAMPLED_DATASET:\n",
        "    folder_path = r\"/Users/sakethreddyvallapureddy/Desktop/chai_BDP/DATASET_BDP/aggregated_sampled_weather_measurements.csv\"\n",
        "\n",
        "    # Get a list of CSV files in the folder\n",
        "    csv_files = [file for file in os.listdir(folder_path) if file.endswith(\".csv\")]\n",
        "\n",
        "    # Iterate over each CSV file and read it into a DataFrame\n",
        "    dfs = []\n",
        "    for file in csv_files:\n",
        "        file_path = os.path.join(folder_path, file)\n",
        "        df = spark.read.options(header='true', inferSchema='true').csv(file_path)\n",
        "        dfs.append(df)\n",
        "\n",
        "    # Union all DataFrames together to create a single DataFrame\n",
        "    sampled_weather_measurements_df = dfs[0]  # Initialize with the first DataFrame\n",
        "    for df in dfs[1:]:\n",
        "        sampled_weather_measurements_df = sampled_weather_measurements_df.union(df)\n",
        "\n",
        "    # Show the combined DataFrame\n",
        "    sampled_weather_measurements_df.show()\n",
        "    #sampled_weather_measurements_df = spark.read.format(\"csv\").option(\"header\", \"true\").load(SAMPLED_DATASET_PATH)\n",
        "else:\n",
        "    sampled_weather_measurements_df = not_null_weather_measurements_df.sampleBy(\n",
        "        WEATHER_CONDITION_COL,\n",
        "        fractions=get_undersampling_fracs(not_null_weather_measurements_df),\n",
        "        seed=RANDOM_SEED\n",
        "    )\n"
      ]
    },
    {
      "cell_type": "code",
      "execution_count": null,
      "id": "7da85be7",
      "metadata": {
        "scrolled": true,
        "id": "7da85be7",
        "outputId": "877812d9-eb4e-4c05-d000-15e28db9c1ec"
      },
      "outputs": [
        {
          "name": "stdout",
          "output_type": "stream",
          "text": [
            "root\n",
            " |-- datetime: timestamp (nullable = true)\n",
            " |-- humidity: double (nullable = true)\n",
            " |-- pressure: double (nullable = true)\n",
            " |-- temperature: double (nullable = true)\n",
            " |-- wind_direction: double (nullable = true)\n",
            " |-- wind_speed: double (nullable = true)\n",
            " |-- weather_condition: string (nullable = true)\n",
            " |-- city: string (nullable = true)\n",
            " |-- country: string (nullable = true)\n",
            " |-- latitude: double (nullable = true)\n",
            " |-- longitude: double (nullable = true)\n",
            "\n"
          ]
        }
      ],
      "source": [
        "sampled_weather_measurements_df.printSchema()"
      ]
    },
    {
      "cell_type": "code",
      "execution_count": null,
      "id": "f13f206a",
      "metadata": {
        "id": "f13f206a"
      },
      "outputs": [],
      "source": [
        "if SAVE_COMPUTATIONS and not LOAD_SAMPLED_DATASET:\n",
        "    sampled_weather_measurements_df.write.csv(SAMPLED_DATASET_PATH,\n",
        "                                              mode='overwrite',\n",
        "                                              header=True)"
      ]
    },
    {
      "cell_type": "code",
      "execution_count": null,
      "id": "85e25394",
      "metadata": {
        "id": "85e25394",
        "outputId": "8140e276-5d3f-4d9d-f816-da5128ee86aa"
      },
      "outputs": [
        {
          "name": "stdout",
          "output_type": "stream",
          "text": [
            "+-----------------+-----+\n",
            "|weather_condition|count|\n",
            "+-----------------+-----+\n",
            "|            rainy| 8373|\n",
            "|            snowy| 8622|\n",
            "|            sunny| 8656|\n",
            "|           cloudy| 8644|\n",
            "|     thunderstorm| 8553|\n",
            "|            foggy| 8581|\n",
            "+-----------------+-----+\n",
            "\n"
          ]
        }
      ],
      "source": [
        "sampled_weather_measurements_df.groupBy(WEATHER_CONDITION_COL).count().show()"
      ]
    },
    {
      "cell_type": "code",
      "execution_count": null,
      "id": "57ea0bd6",
      "metadata": {
        "id": "57ea0bd6",
        "outputId": "8d479678-3a6c-4449-aba6-5c36494b220c"
      },
      "outputs": [
        {
          "name": "stderr",
          "output_type": "stream",
          "text": [
            "24/04/22 17:43:09 WARN package: Truncated the string representation of a plan since it was too large. This behavior can be adjusted by setting 'spark.sql.debug.maxToStringFields'.\n",
            "[Stage 1025:============================>                           (4 + 4) / 8]\r"
          ]
        },
        {
          "name": "stdout",
          "output_type": "stream",
          "text": [
            "+--------------+--------------+-----------------+--------------------+----------------+-----------------------+----------+-------------+--------------+---------------+------------+------------+---------------+------------------+--------------+---------------------+---------+-------------+------------+-------------+-----------------+-----------------+-----------------+-------------------+------------------+----------------------+---------+------------+------------------+------------------+------------+------------+---------------+------------------+--------------+---------------------+-----------+-----------+------------+-------------+------------------+------------------+------------------+---------------------+------------------+------------------------+-----------+--------------+-----------------+-----------------+\n",
            "|count_humidity|count_pressure|count_temperature|count_wind_direction|count_wind_speed|count_weather_condition|count_city|count_country|count_latitude|count_longitude|max_humidity|max_pressure|max_temperature|max_wind_direction|max_wind_speed|max_weather_condition| max_city|  max_country|max_latitude|max_longitude|    mean_humidity|    mean_pressure| mean_temperature|mean_wind_direction|   mean_wind_speed|mean_weather_condition|mean_city|mean_country|     mean_latitude|    mean_longitude|min_humidity|min_pressure|min_temperature|min_wind_direction|min_wind_speed|min_weather_condition|   min_city|min_country|min_latitude|min_longitude|   stddev_humidity|   stddev_pressure|stddev_temperature|stddev_wind_direction| stddev_wind_speed|stddev_weather_condition|stddev_city|stddev_country|  stddev_latitude| stddev_longitude|\n",
            "+--------------+--------------+-----------------+--------------------+----------------+-----------------------+----------+-------------+--------------+---------------+------------+------------+---------------+------------------+--------------+---------------------+---------+-------------+------------+-------------+-----------------+-----------------+-----------------+-------------------+------------------+----------------------+---------+------------+------------------+------------------+------------+------------+---------------+------------------+--------------+---------------------+-----------+-----------+------------+-------------+------------------+------------------+------------------+---------------------+------------------+------------------------+-----------+--------------+-----------------+-----------------+\n",
            "|         51429|         51429|            51429|               51429|           51429|                  51429|     51429|        51429|         51429|          51429|       100.0|      1100.0|         317.35|             360.0|          35.0|         thunderstorm|Vancouver|United States|    49.24966|    35.216331|73.35688035933033|1017.105601897762|286.6298669477102| 183.87932878337125|3.1757957572575783|                  null|     null|        null|37.886835537420986|-82.26688291139396|         5.0|       803.0|         243.62|               0.0|           0.0|               cloudy|Albuquerque|     Canada|   25.774269|  -123.119339|20.633996204510503|13.325849842166066|12.068790803267785|   103.66481323872382|2.2916893461124297|                    null|       null|          null|5.830630652854438|38.71590125404197|\n",
            "+--------------+--------------+-----------------+--------------------+----------------+-----------------------+----------+-------------+--------------+---------------+------------+------------+---------------+------------------+--------------+---------------------+---------+-------------+------------+-------------+-----------------+-----------------+-----------------+-------------------+------------------+----------------------+---------+------------+------------------+------------------+------------+------------+---------------+------------------+--------------+---------------------+-----------+-----------+------------+-------------+------------------+------------------+------------------+---------------------+------------------+------------------------+-----------+--------------+-----------------+-----------------+\n",
            "\n"
          ]
        },
        {
          "name": "stderr",
          "output_type": "stream",
          "text": [
            "                                                                                \r"
          ]
        }
      ],
      "source": [
        "# Describe the DataFrame\n",
        "description_df = sampled_weather_measurements_df.describe()\n",
        "\n",
        "# Collect distinct summary values\n",
        "summary_values = [row[\"summary\"] for row in description_df.select(\"summary\").distinct().collect()]\n",
        "\n",
        "# Transpose the DataFrame using pivot\n",
        "transposed_df = description_df.groupBy().pivot(\"summary\").agg(*[first(col(c)).alias(c) for c in description_df.columns if c != \"summary\"])\n",
        "\n",
        "# Show the transposed DataFrame\n",
        "transposed_df.show()"
      ]
    },
    {
      "cell_type": "code",
      "execution_count": null,
      "id": "1327b960",
      "metadata": {
        "id": "1327b960"
      },
      "outputs": [],
      "source": [
        "train_df, test_df = sampled_weather_measurements_df.randomSplit([0.8, 0.2], seed=RANDOM_SEED)"
      ]
    },
    {
      "cell_type": "code",
      "execution_count": null,
      "id": "54aec5d2",
      "metadata": {
        "id": "54aec5d2"
      },
      "outputs": [],
      "source": [
        "train_df = train_df.limit(MAX_TRAIN_SIZE)"
      ]
    },
    {
      "cell_type": "code",
      "execution_count": null,
      "id": "43577bfe",
      "metadata": {
        "id": "43577bfe",
        "outputId": "863f7c6d-a9ee-4273-ee80-50b5ffc51305"
      },
      "outputs": [
        {
          "name": "stdout",
          "output_type": "stream",
          "text": [
            "Train set size:  41293 instances\n",
            "Test set size:   10136 instances\n"
          ]
        }
      ],
      "source": [
        "print(f'Train set size:  {train_df.count()} instances')\n",
        "print(f'Test set size:   {test_df.count()} instances')"
      ]
    },
    {
      "cell_type": "code",
      "execution_count": null,
      "id": "0a3ed378",
      "metadata": {
        "id": "0a3ed378"
      },
      "outputs": [],
      "source": [
        "NUMERICAL_FEATURES = [HUMIDITY_COL,\n",
        "                      PRESSURE_COL,\n",
        "                      TEMPERATURE_COL,\n",
        "                      WIND_DIRECTION_COL,\n",
        "                      WIND_SPEED_COL,\n",
        "                      LATITUDE_COL,\n",
        "                      LONGITUDE_COL,]\n",
        "\n",
        "CATEGORICAL_FEATURES = [CITY_COL,\n",
        "                     COUNTRY_COL]\n",
        "\n",
        "TARGET_VARIABLE_COL = \"weather_condition\"\n",
        "PREDICTED_TARGET_VARIABLE_COL = f\"predicted_{TARGET_VARIABLE_COL}\"\n",
        "\n",
        "LABEL_COL = \"label\"\n",
        "PREDICTION_COL = \"prediction\"\n",
        "\n",
        "FEATURES_COL = \"features\"\n",
        "SCALED_FEATURES_COL = f\"scaled_{FEATURES_COL}\""
      ]
    },
    {
      "cell_type": "code",
      "execution_count": null,
      "id": "3b4adcc8",
      "metadata": {
        "id": "3b4adcc8"
      },
      "outputs": [],
      "source": [
        "def save_pyspark_model(model, path: str, append_datetime: bool = True) -> None:\n",
        "\n",
        "    if append_datetime:\n",
        "        from datetime import datetime\n",
        "        path += '-' + datetime.now().strftime(\"%Y%d%m-%H%M%S\")\n",
        "\n",
        "    model.write().overwrite().save(path)"
      ]
    },
    {
      "cell_type": "code",
      "execution_count": null,
      "id": "6c2cc42f",
      "metadata": {
        "id": "6c2cc42f",
        "outputId": "e283126b-0b53-4051-8868-b718e826e0cd"
      },
      "outputs": [
        {
          "name": "stdout",
          "output_type": "stream",
          "text": [
            "+-------------------+--------+--------+-------------+--------------+----------+-----------------+-----------+-------------+---------+-----------+-----+------------+---------------+--------------------+-----------------------+--------------------+--------------------+\n",
            "|           datetime|humidity|pressure|  temperature|wind_direction|wind_speed|weather_condition|       city|      country| latitude|  longitude|label|city_indexed|country_indexed|city_indexed_encoded|country_indexed_encoded|            features|     scaled_features|\n",
            "+-------------------+--------+--------+-------------+--------------+----------+-----------------+-----------+-------------+---------+-----------+-----+------------+---------------+--------------------+-----------------------+--------------------+--------------------+\n",
            "|2012-10-01 15:00:00|    23.0|  1013.0|296.631487354|           9.0|       2.0|            sunny|    Phoenix|United States| 33.44838|-112.074043|  0.0|        29.0|            0.0|     (37,[29],[1.0])|          (4,[0],[1.0])|(48,[29,37,41,42,...|(48,[29,37,41,42,...|\n",
            "|2012-10-01 17:00:00|    88.0|  1013.0|291.852162332|           0.0|       0.0|            sunny|Los Angeles|United States|34.052231|-118.243683|  0.0|        28.0|            0.0|     (37,[28],[1.0])|          (4,[0],[1.0])|(48,[28,37,41,42,...|(48,[28,37,41,42,...|\n",
            "|2012-10-03 05:00:00|    16.0|  1012.0|       301.27|         360.0|       2.0|            sunny|    Phoenix|United States| 33.44838|-112.074043|  0.0|        29.0|            0.0|     (37,[29],[1.0])|          (4,[0],[1.0])|(48,[29,37,41,42,...|(48,[29,37,41,42,...|\n",
            "|2012-10-04 08:00:00|    83.0|  1012.0|        292.4|           0.0|       0.0|           cloudy|  San Diego|United States|32.715328|-117.157257|  2.0|        27.0|            0.0|     (37,[27],[1.0])|          (4,[0],[1.0])|(48,[27,37,41,42,...|(48,[27,37,41,42,...|\n",
            "|2012-10-05 00:00:00|    50.0|  1014.0|       298.36|           0.0|       0.0|            foggy|Los Angeles|United States|34.052231|-118.243683|  4.0|        28.0|            0.0|     (37,[28],[1.0])|          (4,[0],[1.0])|(48,[28,37,41,42,...|(48,[28,37,41,42,...|\n",
            "+-------------------+--------+--------+-------------+--------------+----------+-----------------+-----------+-------------+---------+-----------+-----+------------+---------------+--------------------+-----------------------+--------------------+--------------------+\n",
            "only showing top 5 rows\n",
            "\n"
          ]
        }
      ],
      "source": [
        "from pyspark.sql import DataFrame\n",
        "from pyspark.ml import Pipeline, PipelineModel\n",
        "from pyspark.ml.feature import StringIndexer, OneHotEncoder, VectorAssembler, StandardScaler\n",
        "from typing import List\n",
        "\n",
        "# Define your constants\n",
        "LABEL_COL = \"label\"\n",
        "FEATURES_COL = \"features\"\n",
        "SCALED_FEATURES_COL = \"scaled_features\"\n",
        "\n",
        "# Define your encoding pipeline function\n",
        "def encoding_pipeline(dataframe: DataFrame,\n",
        "                      numerical_features: List[str],\n",
        "                      categorical_features: List[str],\n",
        "                      target_variable: str,\n",
        "                      features_col: str,\n",
        "                      with_std: bool = True,\n",
        "                      with_mean: bool = False) -> PipelineModel:\n",
        "    '''\n",
        "    Args:\n",
        "        - dataframe: the input `DataFrame` to fit the pipeline\n",
        "        - numerical_features: the list of column names in `dataframe` corresponding to numerical features\n",
        "        - categorical_features: the list of column names in `dataframe` corresponding to categorical features\n",
        "        - target_variable: the column name in `dataframe` corresponding to the target variable\n",
        "        - with_std: whether to scale the data to unit standard deviation or not (True by default)\n",
        "        - with_mean: whether to center the data with mean before scaling (False by default)\n",
        "\n",
        "    Returns:\n",
        "        the encoding pipeline fitted with `dataframe`\n",
        "    '''\n",
        "\n",
        "    # Indexing, i.e. transform to numerical values, the target column and rename it as the variable `LABEL_COL`\n",
        "    label_indexer = StringIndexer(inputCol=target_variable, outputCol=LABEL_COL)\n",
        "\n",
        "    # Create a list of indexers, one for each categorical feature\n",
        "    indexers = [StringIndexer(inputCol=c, outputCol=f'{c}_indexed', handleInvalid='keep')\n",
        "                for c in categorical_features]\n",
        "\n",
        "    # Create the one-hot encoder for the list of features just indexed (this encoder will keep unseen label in the future)\n",
        "    encoder = OneHotEncoder(inputCols=[indexer.getOutputCol() for indexer in indexers],\n",
        "                            outputCols=[f'{indexer.getOutputCol()}_encoded' for indexer in indexers],\n",
        "                            handleInvalid='keep')\n",
        "\n",
        "    # Assemble all the features (both one-hot-encoded categorical and numerical) into a single vector\n",
        "    features = encoder.getOutputCols() + numerical_features\n",
        "    assembler = VectorAssembler(inputCols=features, outputCol=FEATURES_COL)\n",
        "\n",
        "    # Create a second feature column with the data scaled accordingly to `withStd` and `withMean`\n",
        "    scaler = StandardScaler(inputCol=assembler.getOutputCol(), outputCol=SCALED_FEATURES_COL,\n",
        "                            withStd=with_std, withMean=with_mean)\n",
        "\n",
        "    stages = [label_indexer] + indexers + [encoder] + [assembler] + [scaler]\n",
        "    pipeline = Pipeline(stages=stages)\n",
        "\n",
        "    transformer = pipeline.fit(dataframe)\n",
        "\n",
        "    return transformer\n",
        "\n",
        "# Instantiate the encoding pipeline\n",
        "data_encoder = encoding_pipeline(train_df, NUMERICAL_FEATURES, CATEGORICAL_FEATURES, TARGET_VARIABLE_COL,FEATURES_COL)\n",
        "\n",
        "# Transform train_df using the encoding pipeline\n",
        "encoded_train_df = data_encoder.transform(train_df)\n",
        "\n",
        "# Show the encoded DataFrame\n",
        "encoded_train_df.show(5)\n"
      ]
    },
    {
      "cell_type": "code",
      "execution_count": null,
      "id": "55fecd99",
      "metadata": {
        "id": "55fecd99"
      },
      "outputs": [],
      "source": [
        "def encoding_pipeline(dataframe, numerical_features, categorical_features, target_variable_col,features_col):\n",
        "    # Define encoding stages (e.g., StringIndexer, OneHotEncoder, VectorAssembler)\n",
        "    # Add stages to a list\n",
        "    encoding_stages = []\n",
        "\n",
        "    # Add StringIndexer for categorical features\n",
        "    for categorical_feature in categorical_features:\n",
        "        string_indexer = StringIndexer(inputCol=categorical_feature, outputCol=f\"{categorical_feature}_index\")\n",
        "        encoding_stages.append(string_indexer)\n",
        "\n",
        "    # Add OneHotEncoder for indexed categorical features\n",
        "    indexed_categorical_features = [f\"{categorical_feature}_index\" for categorical_feature in categorical_features]\n",
        "    one_hot_encoder = OneHotEncoder(inputCols=indexed_categorical_features, outputCols=[f\"{categorical_feature}_onehot\" for categorical_feature in categorical_features])\n",
        "    encoding_stages.append(one_hot_encoder)\n",
        "\n",
        "    # Combine numerical and one-hot encoded categorical features into a single feature vector\n",
        "    assembler_inputs = numerical_features + [f\"{categorical_feature}_onehot\" for categorical_feature in categorical_features]\n",
        "    vector_assembler = VectorAssembler(inputCols=assembler_inputs, outputCol=\"features\")\n",
        "    encoding_stages.append(vector_assembler)\n",
        "\n",
        "    # Create the encoding pipeline\n",
        "    encoding_pipeline = Pipeline(stages=encoding_stages)\n",
        "\n",
        "    # Fit the pipeline on the training data\n",
        "    data_encoder = encoding_pipeline.fit(dataframe)\n",
        "\n",
        "    return data_encoder"
      ]
    },
    {
      "cell_type": "code",
      "execution_count": null,
      "id": "dd605658",
      "metadata": {
        "id": "dd605658"
      },
      "outputs": [],
      "source": [
        "# Save the encoding pipeline if SAVE_COMPUTATIONS is True and LOAD_ENCODING_PIPELINE is False\n",
        "if SAVE_COMPUTATIONS and not LOAD_ENCODING_PIPELINE:\n",
        "    save_pyspark_model(data_encoder)"
      ]
    },
    {
      "cell_type": "code",
      "execution_count": null,
      "id": "4d3caad7",
      "metadata": {
        "id": "4d3caad7"
      },
      "outputs": [],
      "source": [
        "# Transform train_df and test_df using the encoding pipeline\n",
        "encoded_train_df = data_encoder.transform(train_df)\n",
        "encoded_test_df = data_encoder.transform(test_df)"
      ]
    },
    {
      "cell_type": "code",
      "execution_count": null,
      "id": "4749c32b",
      "metadata": {
        "id": "4749c32b",
        "outputId": "9acd6ac0-f4ff-4732-b4dd-bc79a5b7cab1"
      },
      "outputs": [
        {
          "name": "stdout",
          "output_type": "stream",
          "text": [
            "+--------------------+--------------------+-----+\n",
            "|            features|     scaled_features|label|\n",
            "+--------------------+--------------------+-----+\n",
            "|(48,[29,37,41,42,...|(48,[29,37,41,42,...|  0.0|\n",
            "|(48,[28,37,41,42,...|(48,[28,37,41,42,...|  0.0|\n",
            "|(48,[29,37,41,42,...|(48,[29,37,41,42,...|  0.0|\n",
            "|(48,[27,37,41,42,...|(48,[27,37,41,42,...|  2.0|\n",
            "|(48,[28,37,41,42,...|(48,[28,37,41,42,...|  4.0|\n",
            "+--------------------+--------------------+-----+\n",
            "only showing top 5 rows\n",
            "\n"
          ]
        }
      ],
      "source": [
        "encoded_train_df.select([FEATURES_COL, SCALED_FEATURES_COL, LABEL_COL]).show(5)"
      ]
    },
    {
      "cell_type": "code",
      "execution_count": null,
      "id": "70da7714",
      "metadata": {
        "id": "70da7714",
        "outputId": "25e3638f-d009-42d9-f2fc-344454e3aa63"
      },
      "outputs": [
        {
          "name": "stderr",
          "output_type": "stream",
          "text": [
            "                                                                                \r"
          ]
        }
      ],
      "source": [
        "from pyspark.ml.classification import RandomForestClassifier\n",
        "\n",
        "# Train a new RandomForestClassifier model\n",
        "rnd_forest_model = RandomForestClassifier(featuresCol=FEATURES_COL).setLabelCol(LABEL_COL).fit(encoded_train_df)\n"
      ]
    },
    {
      "cell_type": "code",
      "execution_count": null,
      "id": "1f62c15f",
      "metadata": {
        "id": "1f62c15f"
      },
      "outputs": [],
      "source": [
        "rnd_forest_predictions = rnd_forest_model.transform(encoded_test_df)"
      ]
    },
    {
      "cell_type": "code",
      "execution_count": null,
      "id": "45f8bdfe",
      "metadata": {
        "id": "45f8bdfe"
      },
      "outputs": [],
      "source": [
        "from pyspark.ml.feature import IndexToString\n",
        "\n",
        "predictions_idx_to_str = IndexToString(inputCol=PREDICTION_COL,\n",
        "                                       outputCol=PREDICTED_TARGET_VARIABLE_COL,\n",
        "                                       labels=data_encoder.stages[0].labels)"
      ]
    },
    {
      "cell_type": "code",
      "execution_count": null,
      "id": "555c6bcd",
      "metadata": {
        "id": "555c6bcd"
      },
      "outputs": [],
      "source": [
        "rnd_forest_predictions = predictions_idx_to_str.transform(rnd_forest_predictions)"
      ]
    },
    {
      "cell_type": "code",
      "execution_count": null,
      "id": "7fffab22",
      "metadata": {
        "id": "7fffab22"
      },
      "outputs": [],
      "source": [
        "from pyspark.ml.evaluation import MulticlassClassificationEvaluator\n",
        "\n",
        "def eval_predictions(predictions):\n",
        "    evaluator = MulticlassClassificationEvaluator(predictionCol=\"prediction\", labelCol=\"label\", metricName=\"accuracy\")\n",
        "    accuracy = evaluator.evaluate(predictions)\n",
        "\n",
        "    evaluator = MulticlassClassificationEvaluator(predictionCol=\"prediction\", labelCol=\"label\", metricName=\"precisionByLabel\")\n",
        "    precision = evaluator.evaluate(predictions)\n",
        "\n",
        "    evaluator = MulticlassClassificationEvaluator(predictionCol=\"prediction\", labelCol=\"label\", metricName=\"recallByLabel\")\n",
        "    recall = evaluator.evaluate(predictions)\n",
        "\n",
        "    f1_score = 2 * precision * recall / (precision + recall) if (precision + recall) != 0 else 0\n",
        "\n",
        "    print(f'Accuracy: {accuracy}')\n",
        "    print(f'Precision: {precision}')\n",
        "    print(f'Recall: {recall}')\n",
        "    print(f'F1-score: {f1_score}')"
      ]
    },
    {
      "cell_type": "code",
      "execution_count": null,
      "id": "50a8e4af",
      "metadata": {
        "id": "50a8e4af"
      },
      "outputs": [],
      "source": [
        "def plot_confusion_matrix(predictions_df: DataFrame,\n",
        "                          normalize: bool = False,\n",
        "                          title: str = None):\n",
        "    '''\n",
        "    Plots a Confusion Matrix computed on the given `DataFrame`\n",
        "\n",
        "    Args:\n",
        "        - predictions_df: a `DataFrame` that has at least a `label` and a `prediction` column\n",
        "        - normalize: True to normalize the values in the Confusion Matrix, False otherwise\n",
        "        - title: optional title to append on top of the plotted Confusion Matrix\n",
        "    '''\n",
        "\n",
        "    from sklearn.metrics import confusion_matrix\n",
        "    from sklearn.utils.multiclass import unique_labels\n",
        "\n",
        "    # Extract labels and predictions as numpy arrays from Spark DataFrame\n",
        "    labels = predictions_df.select(LABEL_COL).rdd.map(lambda x: x[0]).collect()\n",
        "    predictions = predictions_df.select(PREDICTION_COL).rdd.map(lambda x: x[0]).collect()\n",
        "\n",
        "    if not title:\n",
        "        if normalize:\n",
        "            title = 'Normalized confusion matrix'\n",
        "        else:\n",
        "            title = 'Confusion matrix, without normalization'\n",
        "\n",
        "    # Compute confusion matrix\n",
        "    cm = confusion_matrix(labels, predictions, labels=None)\n",
        "\n",
        "    # Only use the labels that appear in the data\n",
        "    classes = unique_labels(labels, predictions)\n",
        "\n",
        "    if normalize:\n",
        "        cm = cm.astype('float') / cm.sum(axis=1)[:, np.newaxis]\n",
        "\n",
        "    fig, ax = plt.subplots()\n",
        "    im = ax.imshow(cm, interpolation='nearest', cmap=plt.cm.Blues)\n",
        "    ax.figure.colorbar(im, ax=ax)\n",
        "\n",
        "    # We want to show all ticks...\n",
        "    ax.set(xticks=np.arange(cm.shape[1]), yticks=np.arange(cm.shape[0]),\n",
        "           # ... and label them with the respective list entries\n",
        "           xticklabels=classes, yticklabels=classes,\n",
        "           xlabel='Predicted label', ylabel='True label',\n",
        "           title=title)\n",
        "\n",
        "    ax.set_ylim(len(classes) - 0.5, -0.5)\n",
        "\n",
        "    # Rotate the tick labels and set their alignment.\n",
        "    plt.setp(ax.get_xticklabels(), rotation=45, ha='right', rotation_mode='anchor')\n",
        "\n",
        "    # Loop over data dimensions and create text annotations.\n",
        "    fmt = '.2f' if normalize else 'd'\n",
        "    thresh = cm.max() / 2.\n",
        "    for i in range(cm.shape[0]):\n",
        "        for j in range(cm.shape[1]):\n",
        "            ax.text(j, i, format(cm[i, j], fmt), ha='center', va='center',\n",
        "                    color='white' if cm[i, j] > thresh else 'black')\n",
        "\n",
        "    fig.tight_layout()\n",
        "    plt.show()"
      ]
    },
    {
      "cell_type": "code",
      "execution_count": null,
      "id": "6c4cf5cf",
      "metadata": {
        "id": "6c4cf5cf",
        "outputId": "17fb0d5e-d9e6-42fe-8867-b647141a384a"
      },
      "outputs": [
        {
          "name": "stdout",
          "output_type": "stream",
          "text": [
            "Accuracy: 0.48865430149960537\n",
            "Precision: 0.5036855036855037\n",
            "Recall: 0.36760310818888225\n",
            "F1-score: 0.4250172771250864\n"
          ]
        },
        {
          "name": "stderr",
          "output_type": "stream",
          "text": [
            "                                                                                \r"
          ]
        },
        {
          "data": {
            "image/png": "[encoded data removed]",
            "text/plain": [
              "<Figure size 640x480 with 2 Axes>"
            ]
          },
          "metadata": {},
          "output_type": "display_data"
        }
      ],
      "source": [
        "eval_predictions(rnd_forest_predictions)\n",
        "plot_confusion_matrix(rnd_forest_predictions, normalize=True)"
      ]
    },
    {
      "cell_type": "code",
      "execution_count": null,
      "id": "6877a33b",
      "metadata": {
        "id": "6877a33b"
      },
      "outputs": [],
      "source": [
        "if SAVE_COMPUTATIONS and not LOAD_PRETRAINED_MODELS:\n",
        "    save_pyspark_model(rnd_forest_model, RANDOM_FOREST_MODEL_PATH)"
      ]
    },
    {
      "cell_type": "code",
      "execution_count": null,
      "id": "2fb1d3c7",
      "metadata": {
        "id": "2fb1d3c7",
        "outputId": "ae3c563e-b79e-449b-d4b5-3e16c532aa66"
      },
      "outputs": [
        {
          "name": "stderr",
          "output_type": "stream",
          "text": [
            "24/04/22 17:43:23 WARN InstanceBuilder: Failed to load implementation from:dev.ludovic.netlib.blas.JNIBLAS\n",
            "24/04/22 17:43:23 WARN InstanceBuilder: Failed to load implementation from:dev.ludovic.netlib.blas.VectorBLAS\n"
          ]
        }
      ],
      "source": [
        "from pyspark.ml.classification import LogisticRegression\n",
        "\n",
        "# Train a new LogisticRegression model\n",
        "log_reg_model = LogisticRegression(featuresCol=FEATURES_COL, labelCol=LABEL_COL)\n",
        "\n",
        "# Fit the model to the training data\n",
        "log_reg_model = log_reg_model.fit(encoded_train_df)\n",
        "\n",
        "# Use the trained model to make predictions on the test data\n",
        "log_reg_predictions = log_reg_model.transform(encoded_test_df)\n"
      ]
    },
    {
      "cell_type": "code",
      "execution_count": null,
      "id": "cf4ecab3",
      "metadata": {
        "id": "cf4ecab3",
        "outputId": "3a35e5cf-77f2-4277-c8f8-a60c73e0902a"
      },
      "outputs": [
        {
          "name": "stdout",
          "output_type": "stream",
          "text": [
            "Accuracy: 0.5259471191791634\n",
            "Precision: 0.5285620485883126\n",
            "Recall: 0.4811715481171548\n",
            "F1-score: 0.5037546933667084\n"
          ]
        },
        {
          "data": {
            "image/png": "[encoded data removed]",
            "text/plain": [
              "<Figure size 640x480 with 2 Axes>"
            ]
          },
          "metadata": {},
          "output_type": "display_data"
        }
      ],
      "source": [
        "eval_predictions(log_reg_predictions)\n",
        "plot_confusion_matrix(log_reg_predictions, normalize=True)"
      ]
    },
    {
      "cell_type": "code",
      "execution_count": null,
      "id": "de6ec77e",
      "metadata": {
        "id": "de6ec77e"
      },
      "outputs": [],
      "source": [
        "API_KEY = '0a7121469bec87d1db2d4bb6c2960cb9'\n",
        "CITY_NAMES = ['Vancouver']\n",
        "\n",
        "openweather_model = rnd_forest_model\n",
        "\n",
        "OPENWEATHER_FORECAST_COL = 'openweather_forecast'"
      ]
    },
    {
      "cell_type": "code",
      "execution_count": null,
      "id": "ccf6e107",
      "metadata": {
        "scrolled": true,
        "id": "ccf6e107",
        "outputId": "56bfadfd-dba8-450f-dfa7-7b44f756bfa5"
      },
      "outputs": [
        {
          "name": "stdout",
          "output_type": "stream",
          "text": [
            "{'cod': '200', 'message': 0, 'cnt': 40, 'list': [{'dt': 1713830400, 'main': {'temp': 286.57, 'feels_like': 285.4, 'temp_min': 285.04, 'temp_max': 286.57, 'pressure': 1020, 'sea_level': 1020, 'grnd_level': 1010, 'humidity': 55, 'temp_kf': 1.53}, 'weather': [{'id': 801, 'main': 'Clouds', 'description': 'few clouds', 'icon': '02d'}], 'clouds': {'all': 16}, 'wind': {'speed': 3.14, 'deg': 290, 'gust': 3.85}, 'visibility': 10000, 'pop': 0, 'sys': {'pod': 'd'}, 'dt_txt': '2024-04-23 00:00:00'}, {'dt': 1713841200, 'main': {'temp': 284.9, 'feels_like': 283.72, 'temp_min': 283.68, 'temp_max': 284.9, 'pressure': 1018, 'sea_level': 1018, 'grnd_level': 1008, 'humidity': 61, 'temp_kf': 1.22}, 'weather': [{'id': 801, 'main': 'Clouds', 'description': 'few clouds', 'icon': '02d'}], 'clouds': {'all': 17}, 'wind': {'speed': 2.66, 'deg': 322, 'gust': 4.24}, 'visibility': 10000, 'pop': 0, 'sys': {'pod': 'd'}, 'dt_txt': '2024-04-23 03:00:00'}, {'dt': 1713852000, 'main': {'temp': 283.17, 'feels_like': 281.98, 'temp_min': 283.17, 'temp_max': 283.17, 'pressure': 1017, 'sea_level': 1017, 'grnd_level': 1008, 'humidity': 67, 'temp_kf': 0}, 'weather': [{'id': 803, 'main': 'Clouds', 'description': 'broken clouds', 'icon': '04n'}], 'clouds': {'all': 58}, 'wind': {'speed': 1.84, 'deg': 341, 'gust': 1.93}, 'visibility': 10000, 'pop': 0, 'sys': {'pod': 'n'}, 'dt_txt': '2024-04-23 06:00:00'}, {'dt': 1713862800, 'main': {'temp': 282.46, 'feels_like': 282.46, 'temp_min': 282.46, 'temp_max': 282.46, 'pressure': 1016, 'sea_level': 1016, 'grnd_level': 1008, 'humidity': 69, 'temp_kf': 0}, 'weather': [{'id': 804, 'main': 'Clouds', 'description': 'overcast clouds', 'icon': '04n'}], 'clouds': {'all': 100}, 'wind': {'speed': 0.94, 'deg': 150, 'gust': 0.74}, 'visibility': 10000, 'pop': 0, 'sys': {'pod': 'n'}, 'dt_txt': '2024-04-23 09:00:00'}, {'dt': 1713873600, 'main': {'temp': 281.49, 'feels_like': 280.5, 'temp_min': 281.49, 'temp_max': 281.49, 'pressure': 1015, 'sea_level': 1015, 'grnd_level': 1007, 'humidity': 70, 'temp_kf': 0}, 'weather': [{'id': 804, 'main': 'Clouds', 'description': 'overcast clouds', 'icon': '04n'}], 'clouds': {'all': 93}, 'wind': {'speed': 1.9, 'deg': 76, 'gust': 2.04}, 'visibility': 10000, 'pop': 0, 'sys': {'pod': 'n'}, 'dt_txt': '2024-04-23 12:00:00'}, {'dt': 1713884400, 'main': {'temp': 282.9, 'feels_like': 282.9, 'temp_min': 282.9, 'temp_max': 282.9, 'pressure': 1016, 'sea_level': 1016, 'grnd_level': 1007, 'humidity': 63, 'temp_kf': 0}, 'weather': [{'id': 803, 'main': 'Clouds', 'description': 'broken clouds', 'icon': '04d'}], 'clouds': {'all': 70}, 'wind': {'speed': 1.33, 'deg': 122, 'gust': 1.28}, 'visibility': 10000, 'pop': 0, 'sys': {'pod': 'd'}, 'dt_txt': '2024-04-23 15:00:00'}, {'dt': 1713895200, 'main': {'temp': 285.65, 'feels_like': 284.42, 'temp_min': 285.65, 'temp_max': 285.65, 'pressure': 1015, 'sea_level': 1015, 'grnd_level': 1007, 'humidity': 56, 'temp_kf': 0}, 'weather': [{'id': 803, 'main': 'Clouds', 'description': 'broken clouds', 'icon': '04d'}], 'clouds': {'all': 80}, 'wind': {'speed': 2.27, 'deg': 197, 'gust': 1.84}, 'visibility': 10000, 'pop': 0, 'sys': {'pod': 'd'}, 'dt_txt': '2024-04-23 18:00:00'}, {'dt': 1713906000, 'main': {'temp': 285.73, 'feels_like': 284.48, 'temp_min': 285.73, 'temp_max': 285.73, 'pressure': 1015, 'sea_level': 1015, 'grnd_level': 1007, 'humidity': 55, 'temp_kf': 0}, 'weather': [{'id': 804, 'main': 'Clouds', 'description': 'overcast clouds', 'icon': '04d'}], 'clouds': {'all': 100}, 'wind': {'speed': 2.33, 'deg': 242, 'gust': 2.04}, 'visibility': 10000, 'pop': 0, 'sys': {'pod': 'd'}, 'dt_txt': '2024-04-23 21:00:00'}, {'dt': 1713916800, 'main': {'temp': 286.95, 'feels_like': 285.64, 'temp_min': 286.95, 'temp_max': 286.95, 'pressure': 1013, 'sea_level': 1013, 'grnd_level': 1005, 'humidity': 48, 'temp_kf': 0}, 'weather': [{'id': 804, 'main': 'Clouds', 'description': 'overcast clouds', 'icon': '04d'}], 'clouds': {'all': 100}, 'wind': {'speed': 1.62, 'deg': 184, 'gust': 1.52}, 'visibility': 10000, 'pop': 0, 'sys': {'pod': 'd'}, 'dt_txt': '2024-04-24 00:00:00'}, {'dt': 1713927600, 'main': {'temp': 284.86, 'feels_like': 283.68, 'temp_min': 284.86, 'temp_max': 284.86, 'pressure': 1013, 'sea_level': 1013, 'grnd_level': 1004, 'humidity': 61, 'temp_kf': 0}, 'weather': [{'id': 804, 'main': 'Clouds', 'description': 'overcast clouds', 'icon': '04d'}], 'clouds': {'all': 100}, 'wind': {'speed': 1.45, 'deg': 115, 'gust': 1.88}, 'visibility': 10000, 'pop': 0, 'sys': {'pod': 'd'}, 'dt_txt': '2024-04-24 03:00:00'}, {'dt': 1713938400, 'main': {'temp': 284.17, 'feels_like': 283.02, 'temp_min': 284.17, 'temp_max': 284.17, 'pressure': 1013, 'sea_level': 1013, 'grnd_level': 1005, 'humidity': 65, 'temp_kf': 0}, 'weather': [{'id': 804, 'main': 'Clouds', 'description': 'overcast clouds', 'icon': '04n'}], 'clouds': {'all': 100}, 'wind': {'speed': 2.71, 'deg': 96, 'gust': 4.36}, 'visibility': 10000, 'pop': 0, 'sys': {'pod': 'n'}, 'dt_txt': '2024-04-24 06:00:00'}, {'dt': 1713949200, 'main': {'temp': 282.78, 'feels_like': 281.03, 'temp_min': 282.78, 'temp_max': 282.78, 'pressure': 1014, 'sea_level': 1014, 'grnd_level': 1006, 'humidity': 67, 'temp_kf': 0}, 'weather': [{'id': 804, 'main': 'Clouds', 'description': 'overcast clouds', 'icon': '04n'}], 'clouds': {'all': 100}, 'wind': {'speed': 3.34, 'deg': 103, 'gust': 5.61}, 'visibility': 10000, 'pop': 0, 'sys': {'pod': 'n'}, 'dt_txt': '2024-04-24 09:00:00'}, {'dt': 1713960000, 'main': {'temp': 282.05, 'feels_like': 279.49, 'temp_min': 282.05, 'temp_max': 282.05, 'pressure': 1016, 'sea_level': 1016, 'grnd_level': 1007, 'humidity': 78, 'temp_kf': 0}, 'weather': [{'id': 500, 'main': 'Rain', 'description': 'light rain', 'icon': '10n'}], 'clouds': {'all': 100}, 'wind': {'speed': 4.7, 'deg': 70, 'gust': 7.14}, 'visibility': 10000, 'pop': 0.2, 'rain': {'3h': 0.16}, 'sys': {'pod': 'n'}, 'dt_txt': '2024-04-24 12:00:00'}, {'dt': 1713970800, 'main': {'temp': 281.29, 'feels_like': 279.2, 'temp_min': 281.29, 'temp_max': 281.29, 'pressure': 1016, 'sea_level': 1016, 'grnd_level': 1008, 'humidity': 90, 'temp_kf': 0}, 'weather': [{'id': 500, 'main': 'Rain', 'description': 'light rain', 'icon': '10d'}], 'clouds': {'all': 100}, 'wind': {'speed': 3.38, 'deg': 103, 'gust': 4.72}, 'visibility': 10000, 'pop': 1, 'rain': {'3h': 1.34}, 'sys': {'pod': 'd'}, 'dt_txt': '2024-04-24 15:00:00'}, {'dt': 1713981600, 'main': {'temp': 284.23, 'feels_like': 283.25, 'temp_min': 284.23, 'temp_max': 284.23, 'pressure': 1017, 'sea_level': 1017, 'grnd_level': 1009, 'humidity': 71, 'temp_kf': 0}, 'weather': [{'id': 500, 'main': 'Rain', 'description': 'light rain', 'icon': '10d'}], 'clouds': {'all': 100}, 'wind': {'speed': 2.29, 'deg': 152, 'gust': 3.31}, 'visibility': 10000, 'pop': 1, 'rain': {'3h': 0.42}, 'sys': {'pod': 'd'}, 'dt_txt': '2024-04-24 18:00:00'}, {'dt': 1713992400, 'main': {'temp': 285.48, 'feels_like': 284.28, 'temp_min': 285.48, 'temp_max': 285.48, 'pressure': 1017, 'sea_level': 1017, 'grnd_level': 1008, 'humidity': 58, 'temp_kf': 0}, 'weather': [{'id': 500, 'main': 'Rain', 'description': 'light rain', 'icon': '10d'}], 'clouds': {'all': 100}, 'wind': {'speed': 2.84, 'deg': 178, 'gust': 3.6}, 'visibility': 10000, 'pop': 0.34, 'rain': {'3h': 0.2}, 'sys': {'pod': 'd'}, 'dt_txt': '2024-04-24 21:00:00'}, {'dt': 1714003200, 'main': {'temp': 284.17, 'feels_like': 283.16, 'temp_min': 284.17, 'temp_max': 284.17, 'pressure': 1016, 'sea_level': 1016, 'grnd_level': 1008, 'humidity': 70, 'temp_kf': 0}, 'weather': [{'id': 500, 'main': 'Rain', 'description': 'light rain', 'icon': '10d'}], 'clouds': {'all': 100}, 'wind': {'speed': 4.83, 'deg': 155, 'gust': 4.87}, 'visibility': 10000, 'pop': 0.34, 'rain': {'3h': 0.28}, 'sys': {'pod': 'd'}, 'dt_txt': '2024-04-25 00:00:00'}, {'dt': 1714014000, 'main': {'temp': 282.95, 'feels_like': 281.25, 'temp_min': 282.95, 'temp_max': 282.95, 'pressure': 1015, 'sea_level': 1015, 'grnd_level': 1007, 'humidity': 80, 'temp_kf': 0}, 'weather': [{'id': 500, 'main': 'Rain', 'description': 'light rain', 'icon': '10d'}], 'clouds': {'all': 100}, 'wind': {'speed': 3.31, 'deg': 104, 'gust': 4.92}, 'visibility': 10000, 'pop': 0.63, 'rain': {'3h': 0.3}, 'sys': {'pod': 'd'}, 'dt_txt': '2024-04-25 03:00:00'}, {'dt': 1714024800, 'main': {'temp': 281.68, 'feels_like': 279.48, 'temp_min': 281.68, 'temp_max': 281.68, 'pressure': 1015, 'sea_level': 1015, 'grnd_level': 1007, 'humidity': 90, 'temp_kf': 0}, 'weather': [{'id': 500, 'main': 'Rain', 'description': 'light rain', 'icon': '10n'}], 'clouds': {'all': 100}, 'wind': {'speed': 3.73, 'deg': 99, 'gust': 5.13}, 'visibility': 10000, 'pop': 0.74, 'rain': {'3h': 0.42}, 'sys': {'pod': 'n'}, 'dt_txt': '2024-04-25 06:00:00'}, {'dt': 1714035600, 'main': {'temp': 281.26, 'feels_like': 279.77, 'temp_min': 281.26, 'temp_max': 281.26, 'pressure': 1014, 'sea_level': 1014, 'grnd_level': 1005, 'humidity': 94, 'temp_kf': 0}, 'weather': [{'id': 500, 'main': 'Rain', 'description': 'light rain', 'icon': '10n'}], 'clouds': {'all': 100}, 'wind': {'speed': 2.45, 'deg': 114, 'gust': 3.59}, 'visibility': 10000, 'pop': 1, 'rain': {'3h': 1.33}, 'sys': {'pod': 'n'}, 'dt_txt': '2024-04-25 09:00:00'}, {'dt': 1714046400, 'main': {'temp': 281.07, 'feels_like': 279.03, 'temp_min': 281.07, 'temp_max': 281.07, 'pressure': 1012, 'sea_level': 1012, 'grnd_level': 1004, 'humidity': 96, 'temp_kf': 0}, 'weather': [{'id': 501, 'main': 'Rain', 'description': 'moderate rain', 'icon': '10n'}], 'clouds': {'all': 100}, 'wind': {'speed': 3.21, 'deg': 98, 'gust': 4.58}, 'visibility': 9273, 'pop': 1, 'rain': {'3h': 3.43}, 'sys': {'pod': 'n'}, 'dt_txt': '2024-04-25 12:00:00'}, {'dt': 1714057200, 'main': {'temp': 281.16, 'feels_like': 279.41, 'temp_min': 281.16, 'temp_max': 281.16, 'pressure': 1011, 'sea_level': 1011, 'grnd_level': 1003, 'humidity': 92, 'temp_kf': 0}, 'weather': [{'id': 501, 'main': 'Rain', 'description': 'moderate rain', 'icon': '10d'}], 'clouds': {'all': 100}, 'wind': {'speed': 2.79, 'deg': 77, 'gust': 4.44}, 'visibility': 10000, 'pop': 1, 'rain': {'3h': 3.8}, 'sys': {'pod': 'd'}, 'dt_txt': '2024-04-25 15:00:00'}, {'dt': 1714068000, 'main': {'temp': 281.67, 'feels_like': 280.29, 'temp_min': 281.67, 'temp_max': 281.67, 'pressure': 1011, 'sea_level': 1011, 'grnd_level': 1003, 'humidity': 90, 'temp_kf': 0}, 'weather': [{'id': 500, 'main': 'Rain', 'description': 'light rain', 'icon': '10d'}], 'clouds': {'all': 100}, 'wind': {'speed': 2.4, 'deg': 77, 'gust': 3.84}, 'visibility': 10000, 'pop': 1, 'rain': {'3h': 2.5}, 'sys': {'pod': 'd'}, 'dt_txt': '2024-04-25 18:00:00'}, {'dt': 1714078800, 'main': {'temp': 282.15, 'feels_like': 280.82, 'temp_min': 282.15, 'temp_max': 282.15, 'pressure': 1010, 'sea_level': 1010, 'grnd_level': 1002, 'humidity': 88, 'temp_kf': 0}, 'weather': [{'id': 500, 'main': 'Rain', 'description': 'light rain', 'icon': '10d'}], 'clouds': {'all': 100}, 'wind': {'speed': 2.46, 'deg': 54, 'gust': 3.39}, 'visibility': 10000, 'pop': 1, 'rain': {'3h': 1.88}, 'sys': {'pod': 'd'}, 'dt_txt': '2024-04-25 21:00:00'}, {'dt': 1714089600, 'main': {'temp': 282.14, 'feels_like': 282.14, 'temp_min': 282.14, 'temp_max': 282.14, 'pressure': 1009, 'sea_level': 1009, 'grnd_level': 1001, 'humidity': 90, 'temp_kf': 0}, 'weather': [{'id': 500, 'main': 'Rain', 'description': 'light rain', 'icon': '10d'}], 'clouds': {'all': 100}, 'wind': {'speed': 1.04, 'deg': 99, 'gust': 1.77}, 'visibility': 10000, 'pop': 1, 'rain': {'3h': 1.01}, 'sys': {'pod': 'd'}, 'dt_txt': '2024-04-26 00:00:00'}, {'dt': 1714100400, 'main': {'temp': 281.61, 'feels_like': 280.98, 'temp_min': 281.61, 'temp_max': 281.61, 'pressure': 1009, 'sea_level': 1009, 'grnd_level': 1000, 'humidity': 95, 'temp_kf': 0}, 'weather': [{'id': 500, 'main': 'Rain', 'description': 'light rain', 'icon': '10d'}], 'clouds': {'all': 100}, 'wind': {'speed': 1.56, 'deg': 102, 'gust': 2.69}, 'visibility': 10000, 'pop': 1, 'rain': {'3h': 1.71}, 'sys': {'pod': 'd'}, 'dt_txt': '2024-04-26 03:00:00'}, {'dt': 1714111200, 'main': {'temp': 282.26, 'feels_like': 281.46, 'temp_min': 282.26, 'temp_max': 282.26, 'pressure': 1008, 'sea_level': 1008, 'grnd_level': 1000, 'humidity': 87, 'temp_kf': 0}, 'weather': [{'id': 500, 'main': 'Rain', 'description': 'light rain', 'icon': '10n'}], 'clouds': {'all': 100}, 'wind': {'speed': 1.82, 'deg': 30, 'gust': 2.35}, 'visibility': 10000, 'pop': 1, 'rain': {'3h': 0.6}, 'sys': {'pod': 'n'}, 'dt_txt': '2024-04-26 06:00:00'}, {'dt': 1714122000, 'main': {'temp': 282.24, 'feels_like': 282.24, 'temp_min': 282.24, 'temp_max': 282.24, 'pressure': 1008, 'sea_level': 1008, 'grnd_level': 1000, 'humidity': 85, 'temp_kf': 0}, 'weather': [{'id': 500, 'main': 'Rain', 'description': 'light rain', 'icon': '10n'}], 'clouds': {'all': 100}, 'wind': {'speed': 1.02, 'deg': 24, 'gust': 1}, 'visibility': 10000, 'pop': 0.38, 'rain': {'3h': 0.19}, 'sys': {'pod': 'n'}, 'dt_txt': '2024-04-26 09:00:00'}, {'dt': 1714132800, 'main': {'temp': 282.15, 'feels_like': 281.28, 'temp_min': 282.15, 'temp_max': 282.15, 'pressure': 1009, 'sea_level': 1009, 'grnd_level': 1000, 'humidity': 85, 'temp_kf': 0}, 'weather': [{'id': 804, 'main': 'Clouds', 'description': 'overcast clouds', 'icon': '04n'}], 'clouds': {'all': 100}, 'wind': {'speed': 1.88, 'deg': 307, 'gust': 1.98}, 'visibility': 10000, 'pop': 0.1, 'sys': {'pod': 'n'}, 'dt_txt': '2024-04-26 12:00:00'}, {'dt': 1714143600, 'main': {'temp': 282.52, 'feels_like': 281.53, 'temp_min': 282.52, 'temp_max': 282.52, 'pressure': 1010, 'sea_level': 1010, 'grnd_level': 1001, 'humidity': 86, 'temp_kf': 0}, 'weather': [{'id': 804, 'main': 'Clouds', 'description': 'overcast clouds', 'icon': '04d'}], 'clouds': {'all': 100}, 'wind': {'speed': 2.1, 'deg': 291, 'gust': 2.28}, 'visibility': 10000, 'pop': 0, 'sys': {'pod': 'd'}, 'dt_txt': '2024-04-26 15:00:00'}, {'dt': 1714154400, 'main': {'temp': 283.83, 'feels_like': 283.04, 'temp_min': 283.83, 'temp_max': 283.83, 'pressure': 1011, 'sea_level': 1011, 'grnd_level': 1002, 'humidity': 80, 'temp_kf': 0}, 'weather': [{'id': 500, 'main': 'Rain', 'description': 'light rain', 'icon': '10d'}], 'clouds': {'all': 100}, 'wind': {'speed': 2.87, 'deg': 286, 'gust': 1.94}, 'visibility': 10000, 'pop': 0.2, 'rain': {'3h': 0.13}, 'sys': {'pod': 'd'}, 'dt_txt': '2024-04-26 18:00:00'}, {'dt': 1714165200, 'main': {'temp': 284.24, 'feels_like': 283.44, 'temp_min': 284.24, 'temp_max': 284.24, 'pressure': 1012, 'sea_level': 1012, 'grnd_level': 1003, 'humidity': 78, 'temp_kf': 0}, 'weather': [{'id': 500, 'main': 'Rain', 'description': 'light rain', 'icon': '10d'}], 'clouds': {'all': 93}, 'wind': {'speed': 2.51, 'deg': 282, 'gust': 2.3}, 'visibility': 10000, 'pop': 0.2, 'rain': {'3h': 0.16}, 'sys': {'pod': 'd'}, 'dt_txt': '2024-04-26 21:00:00'}, {'dt': 1714176000, 'main': {'temp': 284.92, 'feels_like': 283.93, 'temp_min': 284.92, 'temp_max': 284.92, 'pressure': 1011, 'sea_level': 1011, 'grnd_level': 1003, 'humidity': 68, 'temp_kf': 0}, 'weather': [{'id': 500, 'main': 'Rain', 'description': 'light rain', 'icon': '10d'}], 'clouds': {'all': 96}, 'wind': {'speed': 2.19, 'deg': 238, 'gust': 1.8}, 'visibility': 10000, 'pop': 0.2, 'rain': {'3h': 0.11}, 'sys': {'pod': 'd'}, 'dt_txt': '2024-04-27 00:00:00'}, {'dt': 1714186800, 'main': {'temp': 283.27, 'feels_like': 282.35, 'temp_min': 283.27, 'temp_max': 283.27, 'pressure': 1012, 'sea_level': 1012, 'grnd_level': 1004, 'humidity': 77, 'temp_kf': 0}, 'weather': [{'id': 804, 'main': 'Clouds', 'description': 'overcast clouds', 'icon': '04d'}], 'clouds': {'all': 99}, 'wind': {'speed': 1.4, 'deg': 178, 'gust': 1.59}, 'visibility': 10000, 'pop': 0, 'sys': {'pod': 'd'}, 'dt_txt': '2024-04-27 03:00:00'}, {'dt': 1714197600, 'main': {'temp': 281.78, 'feels_like': 280.16, 'temp_min': 281.78, 'temp_max': 281.78, 'pressure': 1013, 'sea_level': 1013, 'grnd_level': 1005, 'humidity': 85, 'temp_kf': 0}, 'weather': [{'id': 804, 'main': 'Clouds', 'description': 'overcast clouds', 'icon': '04n'}], 'clouds': {'all': 100}, 'wind': {'speed': 2.77, 'deg': 92, 'gust': 4.09}, 'visibility': 10000, 'pop': 0, 'sys': {'pod': 'n'}, 'dt_txt': '2024-04-27 06:00:00'}, {'dt': 1714208400, 'main': {'temp': 281.27, 'feels_like': 278.9, 'temp_min': 281.27, 'temp_max': 281.27, 'pressure': 1014, 'sea_level': 1014, 'grnd_level': 1005, 'humidity': 87, 'temp_kf': 0}, 'weather': [{'id': 803, 'main': 'Clouds', 'description': 'broken clouds', 'icon': '04n'}], 'clouds': {'all': 63}, 'wind': {'speed': 3.88, 'deg': 78, 'gust': 5.83}, 'visibility': 10000, 'pop': 0, 'sys': {'pod': 'n'}, 'dt_txt': '2024-04-27 09:00:00'}, {'dt': 1714219200, 'main': {'temp': 282.24, 'feels_like': 279.9, 'temp_min': 282.24, 'temp_max': 282.24, 'pressure': 1014, 'sea_level': 1014, 'grnd_level': 1006, 'humidity': 87, 'temp_kf': 0}, 'weather': [{'id': 803, 'main': 'Clouds', 'description': 'broken clouds', 'icon': '04n'}], 'clouds': {'all': 81}, 'wind': {'speed': 4.3, 'deg': 92, 'gust': 6.84}, 'visibility': 10000, 'pop': 0, 'sys': {'pod': 'n'}, 'dt_txt': '2024-04-27 12:00:00'}, {'dt': 1714230000, 'main': {'temp': 282.39, 'feels_like': 280.06, 'temp_min': 282.39, 'temp_max': 282.39, 'pressure': 1014, 'sea_level': 1014, 'grnd_level': 1006, 'humidity': 87, 'temp_kf': 0}, 'weather': [{'id': 804, 'main': 'Clouds', 'description': 'overcast clouds', 'icon': '04d'}], 'clouds': {'all': 100}, 'wind': {'speed': 4.34, 'deg': 103, 'gust': 6.21}, 'visibility': 10000, 'pop': 0.07, 'sys': {'pod': 'd'}, 'dt_txt': '2024-04-27 15:00:00'}, {'dt': 1714240800, 'main': {'temp': 282.37, 'feels_like': 279.96, 'temp_min': 282.37, 'temp_max': 282.37, 'pressure': 1015, 'sea_level': 1015, 'grnd_level': 1007, 'humidity': 88, 'temp_kf': 0}, 'weather': [{'id': 500, 'main': 'Rain', 'description': 'light rain', 'icon': '10d'}], 'clouds': {'all': 100}, 'wind': {'speed': 4.53, 'deg': 135, 'gust': 5.96}, 'visibility': 10000, 'pop': 0.23, 'rain': {'3h': 0.27}, 'sys': {'pod': 'd'}, 'dt_txt': '2024-04-27 18:00:00'}, {'dt': 1714251600, 'main': {'temp': 282.64, 'feels_like': 280.14, 'temp_min': 282.64, 'temp_max': 282.64, 'pressure': 1015, 'sea_level': 1015, 'grnd_level': 1007, 'humidity': 85, 'temp_kf': 0}, 'weather': [{'id': 500, 'main': 'Rain', 'description': 'light rain', 'icon': '10d'}], 'clouds': {'all': 100}, 'wind': {'speed': 4.91, 'deg': 123, 'gust': 5.91}, 'visibility': 10000, 'pop': 0.36, 'rain': {'3h': 0.21}, 'sys': {'pod': 'd'}, 'dt_txt': '2024-04-27 21:00:00'}], 'city': {'id': 6173331, 'name': 'Vancouver', 'coord': {'lat': 49.2497, 'lon': -123.1193}, 'country': 'CA', 'population': 1837969, 'timezone': -25200, 'sunrise': 1713791150, 'sunset': 1713842130}}\n"
          ]
        }
      ],
      "source": [
        "from pyspark.sql import SparkSession\n",
        "from pyspark.sql import Row\n",
        "from pyspark.sql.functions import lit\n",
        "import requests\n",
        "\n",
        "def get_5_days_forecasts_df(city_name: str, api_key: str) -> DataFrame:\n",
        "    # Define the city name and API key\n",
        "    city_name = \"Vancouver\"  # Replace with the desired city name\n",
        "    api_key = \"0a7121469bec87d1db2d4bb6c2960cb9\"  # Replace with your OpenWeather API key\n",
        "\n",
        "    # Construct the API URL\n",
        "    API_URL = f'http://api.openweathermap.org/data/2.5/forecast?q={city_name}&appid={api_key}'\n",
        "\n",
        "    # Make the request to the API and parse the response\n",
        "    res = requests.get(API_URL).json()\n",
        "\n",
        "    # Print the response\n",
        "    print(res)\n",
        "\n",
        "    # Extract the coordinates\n",
        "    coord = res['city']['coord']\n",
        "    latitude = float(coord['lat'])\n",
        "    longitude = float(coord['lon'])\n",
        "\n",
        "    # Define the schema using a list of Row objects\n",
        "    forecasts = []\n",
        "    for forecast in res['list']:\n",
        "        main = forecast['main']\n",
        "        wind = forecast['wind']\n",
        "        weather = forecast['weather'][0]  # Extract first element from weather list\n",
        "\n",
        "        datetime = forecast['dt_txt']\n",
        "        temperature = float(main['temp'])\n",
        "        pressure = float(main['pressure'])\n",
        "        humidity = float(main['humidity'])\n",
        "        wind_speed = float(wind['speed'])\n",
        "        wind_direction = float(wind['deg'])\n",
        "        weather_condition = weather['main']\n",
        "\n",
        "        # Create a Row object for each forecast entry\n",
        "        forecast_row = Row(\n",
        "            datetime=datetime,\n",
        "            humidity=humidity,\n",
        "            pressure=pressure,\n",
        "            temperature=temperature,\n",
        "            wind_direction=wind_direction,\n",
        "            wind_speed=wind_speed,\n",
        "            weather_condition=weather_condition,\n",
        "            city=city_name,\n",
        "            latitude=latitude,\n",
        "            longitude=longitude\n",
        "        )\n",
        "        forecasts.append(forecast_row)\n",
        "\n",
        "    # Convert the list of Row objects to a DataFrame\n",
        "    forecasts_df = spark.createDataFrame(forecasts)\n",
        "\n",
        "    return forecasts_df\n",
        "\n",
        "# Define the API key and city names as constants\n",
        "API_KEY = '0ca1862fb521371f682fec8adbf2bfd6'  # Replace with your OpenWeatherMap API key\n",
        "CITY_NAMES = ['Vancouver']  # Replace with the list of city names you want to query\n",
        "\n",
        "# Get the 5-day forecasts for each city and concatenate them into a single DataFrame\n",
        "dfs = [get_5_days_forecasts_df(city_name, API_KEY) for city_name in CITY_NAMES]\n",
        "\n",
        "# Use the PySpark function `unionAll` to concatenate multiple DataFrames\n",
        "openweather_forecasts_df = dfs[0]\n",
        "for df in dfs[1:]:\n",
        "    openweather_forecasts_df = openweather_forecasts_df.unionAll(df)\n",
        "\n",
        "# The `openweather_forecasts_df` now contains the concatenated 5-day forecasts for all the cities in the list of CITY_NAMES"
      ]
    },
    {
      "cell_type": "code",
      "execution_count": null,
      "id": "e3ba0ff5",
      "metadata": {
        "id": "e3ba0ff5",
        "outputId": "bb762b18-3492-4aaa-f56a-83f3954e3edf"
      },
      "outputs": [
        {
          "name": "stdout",
          "output_type": "stream",
          "text": [
            "{'rainy': 1189, 'snowy': 881, 'sunny': 1036, 'cloudy': 1168, 'thunderstorm': 2136, 'foggy': 1158}\n"
          ]
        }
      ],
      "source": [
        "# Perform aggregation using groupBy and count functions\n",
        "aggregation_df = df.groupBy(TARGET_VARIABLE_COL).agg(count(\"*\").alias(\"count\"))\n",
        "\n",
        "# Convert the aggregation DataFrame to a dictionary\n",
        "weather_conditions_dict = dict(aggregation_df.collect())\n",
        "\n",
        "# Show the resulting aggregation dictionary\n",
        "print(weather_conditions_dict)"
      ]
    },
    {
      "cell_type": "code",
      "execution_count": null,
      "id": "e320a3d8",
      "metadata": {
        "id": "e320a3d8",
        "outputId": "5dd3b722-1e9c-492f-ff2e-e1a70708c7f1"
      },
      "outputs": [
        {
          "data": {
            "text/plain": [
              "{'cloudy', 'foggy', 'rainy', 'snowy', 'sunny', 'thunderstorm'}"
            ]
          },
          "execution_count": 60,
          "metadata": {},
          "output_type": "execute_result"
        }
      ],
      "source": [
        "WEATHER_CONDITIONS"
      ]
    },
    {
      "cell_type": "code",
      "execution_count": null,
      "id": "b18defec",
      "metadata": {
        "id": "b18defec",
        "outputId": "0e754db5-9073-497b-c413-5466bc0818b0"
      },
      "outputs": [
        {
          "name": "stdout",
          "output_type": "stream",
          "text": [
            "Column Names: ['datetime', 'humidity', 'pressure', 'temperature', 'wind_direction', 'wind_speed', 'weather_condition', 'city', 'latitude', 'longitude']\n"
          ]
        }
      ],
      "source": [
        "# Get the list of column names in the DataFrame\n",
        "column_names = openweather_forecasts_df.columns\n",
        "\n",
        "# Print the list of column names\n",
        "print(\"Column Names:\", column_names)\n"
      ]
    },
    {
      "cell_type": "code",
      "execution_count": null,
      "id": "b4cf17df",
      "metadata": {
        "id": "b4cf17df",
        "outputId": "d25bd821-f7c9-4b3e-ed20-6f7294232e3e"
      },
      "outputs": [
        {
          "name": "stdout",
          "output_type": "stream",
          "text": [
            "+-----------------+\n",
            "|weather_condition|\n",
            "+-----------------+\n",
            "|           Clouds|\n",
            "|             Rain|\n",
            "+-----------------+\n",
            "\n",
            "Specified Weather Conditions: {'thunderstorm', 'rainy', 'cloudy', 'sunny', 'snowy', 'foggy'}\n"
          ]
        }
      ],
      "source": [
        "# Show distinct values in the target column\n",
        "openweather_forecasts_df.select(F.col(TARGET_VARIABLE_COL)).distinct().show()\n",
        "\n",
        "# Print the list of weather conditions specified\n",
        "print(\"Specified Weather Conditions:\", WEATHER_CONDITIONS)"
      ]
    },
    {
      "cell_type": "code",
      "execution_count": null,
      "id": "f48e2452",
      "metadata": {
        "scrolled": true,
        "id": "f48e2452",
        "outputId": "be5b3dfd-4572-4b42-bf74-a88975b651ca"
      },
      "outputs": [
        {
          "name": "stdout",
          "output_type": "stream",
          "text": [
            "+-------------------+--------+--------+-----------+--------------+----------+-----------------+---------+--------+---------+\n",
            "|           datetime|humidity|pressure|temperature|wind_direction|wind_speed|weather_condition|     city|latitude|longitude|\n",
            "+-------------------+--------+--------+-----------+--------------+----------+-----------------+---------+--------+---------+\n",
            "|2024-04-23 00:00:00|    55.0|  1020.0|     286.57|         290.0|      3.14|           Clouds|Vancouver| 49.2497|-123.1193|\n",
            "|2024-04-23 03:00:00|    61.0|  1018.0|      284.9|         322.0|      2.66|           Clouds|Vancouver| 49.2497|-123.1193|\n",
            "|2024-04-23 06:00:00|    67.0|  1017.0|     283.17|         341.0|      1.84|           Clouds|Vancouver| 49.2497|-123.1193|\n",
            "|2024-04-23 09:00:00|    69.0|  1016.0|     282.46|         150.0|      0.94|           Clouds|Vancouver| 49.2497|-123.1193|\n",
            "|2024-04-23 12:00:00|    70.0|  1015.0|     281.49|          76.0|       1.9|           Clouds|Vancouver| 49.2497|-123.1193|\n",
            "|2024-04-23 15:00:00|    63.0|  1016.0|      282.9|         122.0|      1.33|           Clouds|Vancouver| 49.2497|-123.1193|\n",
            "|2024-04-23 18:00:00|    56.0|  1015.0|     285.65|         197.0|      2.27|           Clouds|Vancouver| 49.2497|-123.1193|\n",
            "|2024-04-23 21:00:00|    55.0|  1015.0|     285.73|         242.0|      2.33|           Clouds|Vancouver| 49.2497|-123.1193|\n",
            "|2024-04-24 00:00:00|    48.0|  1013.0|     286.95|         184.0|      1.62|           Clouds|Vancouver| 49.2497|-123.1193|\n",
            "|2024-04-24 03:00:00|    61.0|  1013.0|     284.86|         115.0|      1.45|           Clouds|Vancouver| 49.2497|-123.1193|\n",
            "+-------------------+--------+--------+-----------+--------------+----------+-----------------+---------+--------+---------+\n",
            "only showing top 10 rows\n",
            "\n"
          ]
        }
      ],
      "source": [
        "from pyspark.sql import functions as F\n",
        "\n",
        "# Assuming openweather_forecasts_df is a PySpark DataFrame\n",
        "\n",
        "# Function to replace values using a dictionary in a specific column\n",
        "def replace_values(df, target_col, replacement_dict):\n",
        "    # Initialize a condition with the original target column\n",
        "    condition = df[target_col]\n",
        "\n",
        "    # Iterate through the dictionary to create replacement conditions\n",
        "    for old_value, new_value in replacement_dict.items():\n",
        "        condition = F.when(df[target_col] == old_value, new_value).otherwise(condition)\n",
        "\n",
        "    # Apply the replacement conditions to the DataFrame\n",
        "    df = df.withColumn(target_col, condition)\n",
        "    return df\n",
        "\n",
        "# Replace values in the target column of openweather_forecasts_df\n",
        "openweather_forecasts_df = replace_values(openweather_forecasts_df, TARGET_VARIABLE_COL, weather_conditions_dict)\n",
        "\n",
        "openweather_forecasts_df.show(10)\n",
        "\n",
        "# Filter the DataFrame based on the specified weather conditions\n",
        "openweather_forecasts_df = openweather_forecasts_df.filter(F.col(TARGET_VARIABLE_COL).isin(WEATHER_CONDITIONS))\n",
        "\n",
        "# Display the first few rows of the DataFrame after replacements and filtering for inspection\n",
        "openweather_forecasts_df.show(5)"
      ]
    },
    {
      "cell_type": "code",
      "execution_count": null,
      "id": "2974f30f",
      "metadata": {
        "scrolled": false,
        "id": "2974f30f",
        "outputId": "a27b4e43-c6cc-4ff5-a1a0-92834c448b12"
      },
      "outputs": [
        {
          "name": "stdout",
          "output_type": "stream",
          "text": [
            "+-------------------+---------+--------------------+---------------------------+\n",
            "|           datetime|     city|openweather_forecast|predicted_weather_condition|\n",
            "+-------------------+---------+--------------------+---------------------------+\n",
            "|2024-04-11 21:00:00|Vancouver|               rainy|                      rainy|\n",
            "|2024-04-12 00:00:00|Vancouver|               rainy|                      rainy|\n",
            "|2024-04-12 03:00:00|Vancouver|               rainy|                      rainy|\n",
            "|2024-04-12 06:00:00|Vancouver|               rainy|                      rainy|\n",
            "|2024-04-12 09:00:00|Vancouver|               rainy|                     cloudy|\n",
            "|2024-04-12 12:00:00|Vancouver|               rainy|                     cloudy|\n",
            "|2024-04-12 15:00:00|Vancouver|              cloudy|                     cloudy|\n",
            "|2024-04-12 18:00:00|Vancouver|              cloudy|                      rainy|\n",
            "|2024-04-12 21:00:00|Vancouver|               rainy|                      rainy|\n",
            "|2024-04-13 00:00:00|Vancouver|               rainy|                      rainy|\n",
            "|2024-04-13 03:00:00|Vancouver|               rainy|                     cloudy|\n",
            "|2024-04-13 06:00:00|Vancouver|              cloudy|                     cloudy|\n",
            "|2024-04-13 09:00:00|Vancouver|              cloudy|                      rainy|\n",
            "|2024-04-13 12:00:00|Vancouver|              cloudy|                      rainy|\n",
            "|2024-04-13 15:00:00|Vancouver|               rainy|                      rainy|\n",
            "+-------------------+---------+--------------------+---------------------------+\n",
            "\n"
          ]
        },
        {
          "name": "stderr",
          "output_type": "stream",
          "text": [
            "24/04/22 17:43:33 WARN SparkSession: Using an existing Spark session; only runtime SQL configurations will take effect.\n"
          ]
        }
      ],
      "source": [
        "from pyspark.sql import SparkSession\n",
        "from pyspark.sql import Row\n",
        "\n",
        "openweather_forecasts_predictions = openweather_model.transform(openweather_forecasts_df)\n",
        "\n",
        "openweather_forecasts_predictions = (\n",
        "    openweather_forecasts_predictions\n",
        "    .withColumn(OPENWEATHER_FORECAST_COL, col(TARGET_VARIABLE_COL))\n",
        "    .select([DATETIME_COL, CITY_COL, OPENWEATHER_FORECAST_COL, PREDICTED_TARGET_VARIABLE_COL])\n",
        "    .head(15)\n",
        ")"
      ]
    }
  ],
  "metadata": {
    "kernelspec": {
      "display_name": "Python 3 (ipykernel)",
      "language": "python",
      "name": "python3"
    },
    "language_info": {
      "codemirror_mode": {
        "name": "ipython",
        "version": 3
      },
      "file_extension": ".py",
      "mimetype": "text/x-python",
      "name": "python",
      "nbconvert_exporter": "python",
      "pygments_lexer": "ipython3",
      "version": "3.11.4"
    },
    "colab": {
      "provenance": []
    }
  },
  "nbformat": 4,
  "nbformat_minor": 5
}